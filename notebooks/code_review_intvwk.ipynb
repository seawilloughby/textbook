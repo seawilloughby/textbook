{
 "cells": [
  {
   "cell_type": "markdown",
   "metadata": {},
   "source": [
    "#Runtime Analysis\n",
    "how long does it take a given algorithm to run?"
   ]
  },
  {
   "cell_type": "code",
   "execution_count": 1,
   "metadata": {
    "collapsed": true
   },
   "outputs": [],
   "source": [
    "def find_element(lst, element):\n",
    "    for elem in lst:\n",
    "        if elem == element:\n",
    "            return True\n",
    "    return False"
   ]
  },
  {
   "cell_type": "markdown",
   "metadata": {},
   "source": [
    "####Big O Notation: \n",
    "\n",
    "something about how beyond a certain point, x*\n",
    "g(s) is bounded by f(x):\n",
    "\n",
    "GENERAL EQUATION:\n",
    "```\n",
    "f(x) = x^2\n",
    "g(x) = x^2 + 2x + 2\n",
    "\n",
    "g(x) = O (f(x))\n",
    "\n",
    "if 3C, x* s.t\n",
    "Vx > x*, g(x) <= C f(x)\n",
    "```\n",
    "\n",
    "So to prove this...\n",
    "So for some C, and some x\n",
    "\n",
    "hmm. i'm a little confused. Will ahve to return."
   ]
  },
  {
   "cell_type": "code",
   "execution_count": 23,
   "metadata": {
    "collapsed": false
   },
   "outputs": [],
   "source": [
    "def find_anagrams(lst):\n",
    "    pass"
   ]
  },
  {
   "cell_type": "code",
   "execution_count": 40,
   "metadata": {
    "collapsed": true
   },
   "outputs": [],
   "source": [
    "from itertools import permutations\n",
    "from collections import defaultdict"
   ]
  },
  {
   "cell_type": "code",
   "execution_count": 30,
   "metadata": {
    "collapsed": false
   },
   "outputs": [
    {
     "data": {
      "text/plain": [
       "[]"
      ]
     },
     "execution_count": 30,
     "metadata": {},
     "output_type": "execute_result"
    }
   ],
   "source": [
    "find_anagrams(['bat', 'rats', 'god', 'dog', 'cat', 'arts', 'star'])"
   ]
  },
  {
   "cell_type": "code",
   "execution_count": 35,
   "metadata": {
    "collapsed": false
   },
   "outputs": [
    {
     "name": "stdout",
     "output_type": "stream",
     "text": [
      "1000 loops, best of 3: 584 µs per loop\n"
     ]
    }
   ],
   "source": [
    "#solution none\n",
    "#throw away anything bounded by things we already have. \n",
    "\n",
    "def find_anagrams(lst):\n",
    "    result = []\n",
    "    for word1 in lst:\n",
    "        for word2 in lst:\n",
    "        #n items i list. so takes n times. -> n((k!)k + k)\n",
    "        #then he simplified this: --> n^2k!k \n",
    "            if word1 != word2:\n",
    "            #are two words equal? k steps.   --> \n",
    "                for perm in permutations(word1):\n",
    "                #k! steps.  -->\n",
    "                    if perm == list(word2): \n",
    "                    #takes k, have to check every item\n",
    "                        result.append(word1) #constant. +k\n",
    "    return result\n",
    "\n",
    "#O(n^2 * k * k!)\n",
    "\n",
    "%timeit find_anagrams(['bat', 'rats', 'god', 'dog', 'cat', 'arts', 'star'])\n",
    "\n",
    "'''would like it to be linear. any k**2 or factorial, you have problems'''"
   ]
  },
  {
   "cell_type": "code",
   "execution_count": 37,
   "metadata": {
    "collapsed": false
   },
   "outputs": [
    {
     "name": "stdout",
     "output_type": "stream",
     "text": [
      "10000 loops, best of 3: 96.5 µs per loop\n"
     ]
    }
   ],
   "source": [
    "def find_anagrams(lst):\n",
    "    result = []\n",
    "    for word1 in lst:\n",
    "        for word2 in lst:\n",
    "        #n * n   -> n**2(k log k)    \n",
    "            if word1 != word2 and sorted(word1) == sorted(word2): \n",
    "            #k log k\n",
    "                result.append(word1)\n",
    "                #k = 1 \n",
    "                break\n",
    "    return result\n",
    "\n",
    "#O(n**2 + n k log k)\n",
    "%timeit find_anagrams(['bat', 'rats', 'god', 'dog', 'cat', 'arts', 'star'])\n"
   ]
  },
  {
   "cell_type": "code",
   "execution_count": 41,
   "metadata": {
    "collapsed": false
   },
   "outputs": [
    {
     "name": "stdout",
     "output_type": "stream",
     "text": [
      "10000 loops, best of 3: 17.4 µs per loop\n"
     ]
    }
   ],
   "source": [
    "def find_anagrams(lst):\n",
    "    result = []\n",
    "    d = defaultdict(list)\n",
    "    for word in lst:  #n(k log(k))  , go over loop n times, so n* ...\n",
    "        d[tuple(sorted(word))].append(word) #sorting takes k log k\n",
    "    for key, value in d.iteritems(): #+ n  --> \n",
    "        if len(value) > 1:\n",
    "            result.extend(value) #adding to dict constant \n",
    "    return result\n",
    "\n",
    "%timeit find_anagrams(['bat', 'rats', 'god', 'dog', 'cat', 'arts', 'star'])\n",
    "\n",
    "#whole thing n(klog(k))"
   ]
  },
  {
   "cell_type": "markdown",
   "metadata": {},
   "source": [
    "#Part 2: Dictionaries are the Best!!! "
   ]
  },
  {
   "cell_type": "markdown",
   "metadata": {},
   "source": [
    "dictonaries made with Hash tables: every value that goes into a hash table is given a hash value. \n",
    "\n",
    "example of looking up friends in a cabin: \n",
    " \n",
    "-Hash value: cabin number\n",
    "\n",
    "Need a hash function that gives unique locations. \n",
    "\n",
    "Develop hash functions, uniform distribution over possible hash values.\n"
   ]
  },
  {
   "cell_type": "code",
   "execution_count": 68,
   "metadata": {
    "collapsed": false
   },
   "outputs": [
    {
     "data": {
      "text/plain": [
       "64"
      ]
     },
     "execution_count": 68,
     "metadata": {},
     "output_type": "execute_result"
    }
   ],
   "source": [
    "hash('\\0B')"
   ]
  },
  {
   "cell_type": "code",
   "execution_count": 70,
   "metadata": {
    "collapsed": false
   },
   "outputs": [
    {
     "data": {
      "text/plain": [
       "64"
      ]
     },
     "execution_count": 70,
     "metadata": {},
     "output_type": "execute_result"
    }
   ],
   "source": [
    "hash('\\0\\0C')"
   ]
  },
  {
   "cell_type": "code",
   "execution_count": 72,
   "metadata": {
    "collapsed": false
   },
   "outputs": [
    {
     "data": {
      "text/plain": [
       "71"
      ]
     },
     "execution_count": 72,
     "metadata": {},
     "output_type": "execute_result"
    }
   ],
   "source": [
    "hash('\\0\\0D')"
   ]
  },
  {
   "cell_type": "markdown",
   "metadata": {},
   "source": [
    "so if list as a key, it will say unhashable object \n",
    "\n",
    "if mutable, it is not hashable? may be 1:1 correspondance. \n",
    "\n",
    "tuple is mutable. can't be changed, so hash value is stable, so can use in a dictionary.\n",
    "\n",
    "so if you wnat to make a hashable type, need to implament hash function as a method\n",
    "\n",
    "<b>#want to return true if can get five, false if can't</b>"
   ]
  },
  {
   "cell_type": "code",
   "execution_count": 85,
   "metadata": {
    "collapsed": true
   },
   "outputs": [],
   "source": [
    "target = 5\n",
    "array = [1,4,10,15]\n",
    "\n",
    "#he says, let's go super naive \n",
    "def two_sum(target, array):\n",
    "    for num1 in array:\n",
    "        for num2 in array:\n",
    "            if num1 + num2 == target:\n",
    "                return True\n",
    "    return false\n",
    "\n",
    "#runtime is n**2. Pretty slow.\n",
    "\n",
    "#make it faster with SETS\n",
    "#sets are like dictionaries, but don't have values.\n",
    "\n",
    "def two_sum(target, array):\n",
    "    #store difference between value and target in a set (dictionary)\n",
    "    diffs = set()\n",
    "    for item in array:\n",
    "        diffs.add(target-item)\n",
    "    array = set(array)\n",
    "    if array & diffs:\n",
    "        return True\n",
    "    else:\n",
    "        return False\n",
    "    \n"
   ]
  },
  {
   "cell_type": "markdown",
   "metadata": {},
   "source": [
    "##recursion\n",
    "\n",
    "###binary search: really fast!\n",
    "\n",
    "for this example, the run time is log2n. \n",
    "So you double it to get n. The definition of log n, \n",
    "the exponent you put on two to get n.  How many time does the splitting take place."
   ]
  },
  {
   "cell_type": "code",
   "execution_count": null,
   "metadata": {
    "collapsed": true
   },
   "outputs": [],
   "source": [
    "array = [0,2,5,7,10,15,18,20]  #n elements \n",
    "target = 2\n",
    "\n",
    "#so how to find where 2 is? look in the middle...\n",
    "#recursive implimentation. Python pretty slow with recursion.\n",
    "\n",
    "def binary_search(target, array):\n",
    "    if not array:\n",
    "        return False\n",
    "    middle = len(array)/2\n",
    "    if array[middle] == target:\n",
    "        return True\n",
    "    elif array[middle] > target:\n",
    "        return binary_search(taget, array[:middle])\n",
    "    else:\n",
    "        return binary_search(target, array[middle +1:])\n",
    "\n"
   ]
  },
  {
   "cell_type": "markdown",
   "metadata": {},
   "source": [
    "###sorting alogrithm:\n",
    "why sorting is n log n\n",
    "\n",
    "like binary splits your array in two over and over again\n",
    "once you split your array into n items, start merging them back together in order. "
   ]
  },
  {
   "cell_type": "code",
   "execution_count": null,
   "metadata": {
    "collapsed": true
   },
   "outputs": [],
   "source": [
    "array = [0,2,5,7,10,15,18,20]  #n elements \n",
    "target = 2\n",
    "\n",
    "#splitting it is log n, merging it is n.\n",
    "\n",
    "def merge_sort(array):\n",
    "    #oops. \n"
   ]
  },
  {
   "cell_type": "markdown",
   "metadata": {},
   "source": [
    "###Dynamic Programming\n",
    "\n",
    "solving subproblems! A way to tackle a big problem by iteratively solving smaller versions of that problem.\n",
    "\n",
    "so a list of database records. In it is the number of people that have entered your store. \n",
    "\n",
    "What is the largest number of people in the store at any given time?\n",
    "\n",
    "Database tells you the net change in a given 1 minute interval.\n",
    "\n",
    "net people that are in or out\n"
   ]
  },
  {
   "cell_type": "raw",
   "metadata": {},
   "source": [
    "A = [1,1,2,5,10,-2,-7,10,15]\n",
    "\n",
    "#keep track as iterate through list the \n",
    "#largest number at any given point.\n",
    "#each subarray is a subproblem.\n",
    "\n",
    "s[0] = 0\n",
    "s[k] = max sum subsequence ending of k\n",
    "\n",
    "s[k+1] = max(s[k] + A[k+1] , A[k+1])\n"
   ]
  },
  {
   "cell_type": "code",
   "execution_count": 93,
   "metadata": {
    "collapsed": false
   },
   "outputs": [
    {
     "name": "stdout",
     "output_type": "stream",
     "text": [
      "s -10\n",
      "maxendinghere 0\n",
      "maxsofar 0\n",
      "s 34\n",
      "maxendinghere 34\n",
      "maxsofar 34\n",
      "s 2\n",
      "maxendinghere 36\n",
      "maxsofar 36\n",
      "s -3\n",
      "maxendinghere 33\n",
      "maxsofar 36\n",
      "s -35\n",
      "maxendinghere 0\n",
      "maxsofar 36\n",
      "s 29\n",
      "maxendinghere 29\n",
      "maxsofar 36\n",
      "s 7\n",
      "maxendinghere 36\n",
      "maxsofar 36\n",
      "s -5\n",
      "maxendinghere 31\n",
      "maxsofar 36\n",
      "36\n"
     ]
    }
   ],
   "source": [
    "def max_sum_subsequence(seq):\n",
    "    maxsofar = 0\n",
    "    maxendinghere = 0\n",
    "    for s in seq:\n",
    "        maxendinghere = max(maxendinghere + s, 0)\n",
    "        print 's', s\n",
    "        print 'maxendinghere', maxendinghere\n",
    "        maxsofar =  max(maxsofar, maxendinghere)\n",
    "        print 'maxsofar', maxsofar\n",
    "    return maxsofar\n",
    "\n",
    "print max_sum_subsequence([-10,34,2,-3,-35,29,7,-5])"
   ]
  },
  {
   "cell_type": "code",
   "execution_count": null,
   "metadata": {
    "collapsed": true
   },
   "outputs": [],
   "source": []
  }
 ],
 "metadata": {
  "kernelspec": {
   "display_name": "Python 2",
   "language": "python",
   "name": "python2"
  },
  "language_info": {
   "codemirror_mode": {
    "name": "ipython",
    "version": 2
   },
   "file_extension": ".py",
   "mimetype": "text/x-python",
   "name": "python",
   "nbconvert_exporter": "python",
   "pygments_lexer": "ipython2",
   "version": "2.7.10"
  }
 },
 "nbformat": 4,
 "nbformat_minor": 0
}
