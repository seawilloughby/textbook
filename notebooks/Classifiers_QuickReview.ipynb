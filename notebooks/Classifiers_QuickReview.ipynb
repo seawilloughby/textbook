{
 "cells": [
  {
   "cell_type": "markdown",
   "metadata": {},
   "source": [
    "#Classifiers\n",
    " - Logistic\n",
    " - KNN\n",
    " - Decision Tree\n",
    " - Random Forest\n",
    " - SVM\n",
    " - Boosting"
   ]
  },
  {
   "cell_type": "markdown",
   "metadata": {},
   "source": [
    "#Logistic"
   ]
  },
  {
   "cell_type": "code",
   "execution_count": null,
   "metadata": {
    "collapsed": true
   },
   "outputs": [],
   "source": []
  },
  {
   "cell_type": "markdown",
   "metadata": {},
   "source": [
    "#KNN\n",
    "+ GREAT at Giving an accurate result\n",
    "- Difficult to interpret: WHY does something have a label?\n",
    "\n",
    "- Select K by cross validation"
   ]
  },
  {
   "cell_type": "code",
   "execution_count": 3,
   "metadata": {
    "collapsed": true
   },
   "outputs": [],
   "source": [
    "from sklearn.neighbors import KNeighborsClassifier\n",
    "KNNmodel = KNeighborsClassifier(n_neighbors=x)\n",
    "KNNmodel.fit(X_train,y_train)\n"
   ]
  },
  {
   "cell_type": "markdown",
   "metadata": {},
   "source": [
    "#Decision Trees\n",
    "\n",
    "\n",
    "Classification Trees\n",
    " - Built with recursive binary splitting\n",
    " - Can't use RSS as criterion for split because categorical\n",
    "    - classification error rate :\n",
    "        - more usefull for pruning. Also good for assessing accuracy\n",
    "    -  Gini index:\n",
    "        total variance across K classes\n",
    "        small gini means node has observations mostly from a single class\n",
    "    -  Cross Entropy:\n",
    "\n",
    " -  Advantages:\n",
    "    - easy to explain\n",
    "    - fits complicated nonlinear data\n",
    "    - easily handels qualitatve variables \n",
    " -  Disadvantages:\n",
    "    - not as good predictive accuracy\n"
   ]
  },
  {
   "cell_type": "code",
   "execution_count": null,
   "metadata": {
    "collapsed": true
   },
   "outputs": [],
   "source": [
    "from sklearn.tree import DecisionTreeClassifier, DecisionTreeRegressor\n",
    "\n",
    "DTmodel = DecisionTreeClassifier()#lots of args here\n",
    "DTmodel.fit(X,y)\n",
    "ect"
   ]
  },
  {
   "cell_type": "markdown",
   "metadata": {},
   "source": [
    "arguments to DecisionTreeClassifer:\n",
    " - criterion = 'gini'\n",
    " - max_depth =2, \n",
    " - min_samples_leaf=1, \n",
    " - max_features = None, \n",
    " - max_leaf_node"
   ]
  },
  {
   "cell_type": "code",
   "execution_count": null,
   "metadata": {
    "collapsed": true
   },
   "outputs": [],
   "source": []
  },
  {
   "cell_type": "markdown",
   "metadata": {},
   "source": [
    "#. Random Forest\n"
   ]
  },
  {
   "cell_type": "code",
   "execution_count": null,
   "metadata": {
    "collapsed": true
   },
   "outputs": [],
   "source": [
    "from sklearn.ensemble import RandomForestClassifier\n",
    "\n",
    "rf = RandomForestRegressor(n_estimators=100,\n",
    "                           n_jobs=-1,\n",
    "                           random_state=1)\n",
    "\n",
    "rf.fit(X_train, y_train)\n",
    "print \"accuracy:\", rf.score(X_test, y_test)\n",
    "\n"
   ]
  },
  {
   "cell_type": "code",
   "execution_count": null,
   "metadata": {
    "collapsed": true
   },
   "outputs": [],
   "source": []
  },
  {
   "cell_type": "markdown",
   "metadata": {},
   "source": [
    "# Boosting"
   ]
  },
  {
   "cell_type": "code",
   "execution_count": null,
   "metadata": {
    "collapsed": true
   },
   "outputs": [],
   "source": [
    "from sklearn.ensemble import GradientBoostingRegressor\n",
    "from sklearn.ensemble import GradientBoostingClassifier\n",
    "\n",
    "from sklearn.ensemble import AdaBoostRegressor"
   ]
  },
  {
   "cell_type": "code",
   "execution_count": null,
   "metadata": {
    "collapsed": true
   },
   "outputs": [],
   "source": [
    "abr = AdaBoostRegressor(DecisionTreeRegressor(),\n",
    "                        learning_rate=0.1,\n",
    "                        loss='linear',\n",
    "                        n_estimators=100,\n",
    "                        random_state=1)\n",
    "\n",
    "gbrt = GradientBoostingRegressor(learning_rate=0.1,\n",
    "                                 loss='ls',\n",
    "                                 n_estimators=100,\n",
    "                                 random_state=1)"
   ]
  },
  {
   "cell_type": "markdown",
   "metadata": {},
   "source": [
    "####Use a Grid Search to Get the Best Parameters"
   ]
  },
  {
   "cell_type": "code",
   "execution_count": null,
   "metadata": {
    "collapsed": true
   },
   "outputs": [],
   "source": [
    "from sklearn.grid_search import GridSearchCV\n",
    "\n",
    "#make a dictionary of the parameters you want to alter in the gridsearch\n",
    "param_grid = {'learning rate': [0.1 0.05, 0.01] \n",
    "             'max depth': [4,6]\n",
    "             'min_samples_leaf': [3,4,5,9,17]\n",
    "             'max_features': [1.0, 0.3, 0.1]}\n",
    "\n",
    "'''instantiate your estimator. So, \n",
    "    AdaBoostRegressor\n",
    "    GradientBoostingRegressor\n",
    "    RandomForestRegressor'''\n",
    "#if changing learning rate, maybe make n estimators even higher...\n",
    "est = GradientBoostingRegressor(n_estimators = 3000)\n",
    "\n",
    "#run through ALL the parameters, and fit the data to all permutations\n",
    "gs_cv = GridSearchCV(est, param_grid).fit(x_train,y_train)\n",
    "#this will tell you what the best permaeters were\n",
    "gs_cv.best_params\n",
    "\n",
    "#if you want to call the chosen model, can also use this:\n",
    "best_rf_model = rf_gridsearch.best_estimator_"
   ]
  },
  {
   "cell_type": "markdown",
   "metadata": {},
   "source": [
    "##Bagging?"
   ]
  },
  {
   "cell_type": "code",
   "execution_count": null,
   "metadata": {
    "collapsed": true
   },
   "outputs": [],
   "source": []
  },
  {
   "cell_type": "markdown",
   "metadata": {},
   "source": [
    "# SVM\n",
    "+ GREAT at Giving an accurate result\n",
    "- Difficult to interpret: WHY does something have a label?"
   ]
  },
  {
   "cell_type": "code",
   "execution_count": null,
   "metadata": {
    "collapsed": true
   },
   "outputs": [],
   "source": []
  },
  {
   "cell_type": "code",
   "execution_count": null,
   "metadata": {
    "collapsed": true
   },
   "outputs": [],
   "source": []
  },
  {
   "cell_type": "code",
   "execution_count": null,
   "metadata": {
    "collapsed": true
   },
   "outputs": [],
   "source": []
  },
  {
   "cell_type": "code",
   "execution_count": null,
   "metadata": {
    "collapsed": true
   },
   "outputs": [],
   "source": []
  },
  {
   "cell_type": "markdown",
   "metadata": {},
   "source": [
    "#Neural Nets\n",
    "+ GREAT at Giving an accurate result\n",
    "- Difficult to interpret: WHY does something have a label?"
   ]
  },
  {
   "cell_type": "code",
   "execution_count": null,
   "metadata": {
    "collapsed": true
   },
   "outputs": [],
   "source": []
  },
  {
   "cell_type": "code",
   "execution_count": null,
   "metadata": {
    "collapsed": true
   },
   "outputs": [],
   "source": [
    "##Great Example "
   ]
  },
  {
   "cell_type": "code",
   "execution_count": null,
   "metadata": {
    "collapsed": true
   },
   "outputs": [],
   "source": []
  },
  {
   "cell_type": "code",
   "execution_count": null,
   "metadata": {
    "collapsed": true
   },
   "outputs": [],
   "source": []
  },
  {
   "cell_type": "code",
   "execution_count": null,
   "metadata": {
    "collapsed": true
   },
   "outputs": [],
   "source": []
  },
  {
   "cell_type": "code",
   "execution_count": null,
   "metadata": {
    "collapsed": true
   },
   "outputs": [],
   "source": []
  },
  {
   "cell_type": "code",
   "execution_count": null,
   "metadata": {
    "collapsed": true
   },
   "outputs": [],
   "source": []
  }
 ],
 "metadata": {
  "kernelspec": {
   "display_name": "Python 2",
   "language": "python",
   "name": "python2"
  },
  "language_info": {
   "codemirror_mode": {
    "name": "ipython",
    "version": 2
   },
   "file_extension": ".py",
   "mimetype": "text/x-python",
   "name": "python",
   "nbconvert_exporter": "python",
   "pygments_lexer": "ipython2",
   "version": "2.7.10"
  }
 },
 "nbformat": 4,
 "nbformat_minor": 0
}
