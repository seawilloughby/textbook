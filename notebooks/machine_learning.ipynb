{
 "cells": [
  {
   "cell_type": "markdown",
   "metadata": {},
   "source": [
    "http://blog.christianperone.com/?p=1589"
   ]
  },
  {
   "cell_type": "markdown",
   "metadata": {},
   "source": [
    "##Vector Space Model (VSM)"
   ]
  },
  {
   "cell_type": "markdown",
   "metadata": {},
   "source": [
    "###tf-idf: \n",
    "#####term frequency - inverse document frequency\n",
    "    - how important is a word in a document\n",
    "    - convert text representation to a VSM (vector space model)\n",
    "    \n",
    "####VSM\n",
    "    - algebraic model, textual informaiton as a vector.\n",
    "\n",
    "####Go to the Vector Space\n",
    "    1) create a dictionary of terms present in the document\n",
    "    2) select all terms\n",
    "    3) convert that to a dimension vector space. \n",
    "    \n",
    "    Example\n",
    "    Train Document Set\n",
    "    \n",
    "    d1. The sky is blue.\n",
    "    d2. The sun is bright.\n",
    "    \n",
    "    Test Document Set\n",
    "    \n",
    "    d3. The sun in the sky is bright\n",
    "    d4. We can see the shining sun, the bright sun.\n",
    "    \n",
    "    4) create an index vocabulatiry-dictionary- of the words in the train document. \n",
    "    \n",
    "    Index Vocabularity: E(t). t is the term. \n",
    "    E(t) =  1, if t is 'blue'\n",
    "            2, if t is 'sun'\n",
    "            3, if t is 'bright'\n",
    "            4, if t is 'sky'\n",
    "            \n",
    "     5) convert the test document to a vector space. \n",
    "     6) Term-frequency:\n",
    "         use to represent every item in our vector space.\n",
    "         How many times is a term present in our vovab\n",
    "         \n",
    "         tf(t,d) = sum [ fr(x,t)  \n",
    "         so this is just how many many times term t in document \n",
    "         ft(x,t) =  1, if x - t\n",
    "                    0, other cases\n",
    "                    \n",
    "         ex: tf('sun', d4) = 2\n",
    "         \n",
    "         vector:\n",
    "         put in matrix |D| x F shape\n",
    "         |D| = cardinality of the document space (#documents)\n",
    "         F = number of features (vocabularity size)\n",
    "         \n",
    "         M subscript(|D|xF) = \n",
    "         [[0, 1, 1, 1]\n",
    "          [0, 2, 1, 0]]\n",
    "          \n",
    "          (d3, d4 X blue, sun, bright, sky)\n",
    "            "
   ]
  },
  {
   "cell_type": "code",
   "execution_count": 6,
   "metadata": {
    "collapsed": true
   },
   "outputs": [],
   "source": [
    "from sklearn.feature_extraction.text import CountVectorizer\n",
    "vectorizer = CountVectorizer()  #term=frequency"
   ]
  },
  {
   "cell_type": "markdown",
   "metadata": {},
   "source": [
    "default is the WordNGramAnalyzer.\n",
    "convert text to lowercase by accents removal, token extraction, filter nonstep words, ect"
   ]
  },
  {
   "cell_type": "code",
   "execution_count": 7,
   "metadata": {
    "collapsed": true
   },
   "outputs": [],
   "source": [
    "train_set = (\"The sky is blue.\", \"The sun is bright.\")\n",
    "test_set = (\"The sun in the sky is bright.\",\n",
    "    \"We can see the shining sun, the bright sun.\")"
   ]
  },
  {
   "cell_type": "code",
   "execution_count": 8,
   "metadata": {
    "collapsed": false
   },
   "outputs": [
    {
     "ename": "SyntaxError",
     "evalue": "invalid syntax (<ipython-input-8-d881f2b779e4>, line 2)",
     "output_type": "error",
     "traceback": [
      "\u001b[0;36m  File \u001b[0;32m\"<ipython-input-8-d881f2b779e4>\"\u001b[0;36m, line \u001b[0;32m2\u001b[0m\n\u001b[0;31m    CountVectorizer(analyzer__min_n=1, analyzer__stop_words=set(['all', 'six', 'less', 'being', 'indeed', 'over', 'move', 'anyway', 'four'])\u001b[0m\n\u001b[0m                                                                                                                                            ^\u001b[0m\n\u001b[0;31mSyntaxError\u001b[0m\u001b[0;31m:\u001b[0m invalid syntax\n"
     ]
    }
   ],
   "source": [
    "print vectorizer\n",
    "CountVectorizer(analyzer__min_n=1, analyzer__stop_words=set(['all', 'six', 'less', 'being', 'indeed', 'over', 'move', 'anyway', 'four'])"
   ]
  },
  {
   "cell_type": "code",
   "execution_count": 9,
   "metadata": {
    "collapsed": false
   },
   "outputs": [
    {
     "name": "stderr",
     "output_type": "stream",
     "text": [
      "/Users/clwilloughby/anaconda/lib/python2.7/site-packages/numpy/core/fromnumeric.py:2507: VisibleDeprecationWarning: `rank` is deprecated; use the `ndim` attribute or function instead. To find the rank of a matrix see `numpy.linalg.matrix_rank`.\n",
      "  VisibleDeprecationWarning)\n"
     ]
    },
    {
     "ename": "AttributeError",
     "evalue": "'CountVectorizer' object has no attribute 'vocabulary'",
     "output_type": "error",
     "traceback": [
      "\u001b[0;31m---------------------------------------------------------------------------\u001b[0m",
      "\u001b[0;31mAttributeError\u001b[0m                            Traceback (most recent call last)",
      "\u001b[0;32m<ipython-input-9-77189f6b1bc9>\u001b[0m in \u001b[0;36m<module>\u001b[0;34m()\u001b[0m\n\u001b[1;32m      1\u001b[0m \u001b[0mvectorizer\u001b[0m\u001b[0;34m.\u001b[0m\u001b[0mfit_transform\u001b[0m\u001b[0;34m(\u001b[0m\u001b[0mtrain_set\u001b[0m\u001b[0;34m)\u001b[0m\u001b[0;34m\u001b[0m\u001b[0m\n\u001b[0;32m----> 2\u001b[0;31m \u001b[0;32mprint\u001b[0m \u001b[0mvectorizer\u001b[0m\u001b[0;34m.\u001b[0m\u001b[0mvocabulary\u001b[0m\u001b[0;34m\u001b[0m\u001b[0m\n\u001b[0m\u001b[1;32m      3\u001b[0m \u001b[0;34m{\u001b[0m\u001b[0;34m'blue'\u001b[0m\u001b[0;34m:\u001b[0m \u001b[0;36m0\u001b[0m\u001b[0;34m,\u001b[0m \u001b[0;34m'sun'\u001b[0m\u001b[0;34m:\u001b[0m \u001b[0;36m1\u001b[0m\u001b[0;34m,\u001b[0m \u001b[0;34m'bright'\u001b[0m\u001b[0;34m:\u001b[0m \u001b[0;36m2\u001b[0m\u001b[0;34m,\u001b[0m \u001b[0;34m'sky'\u001b[0m\u001b[0;34m:\u001b[0m \u001b[0;36m3\u001b[0m\u001b[0;34m}\u001b[0m\u001b[0;34m\u001b[0m\u001b[0m\n",
      "\u001b[0;31mAttributeError\u001b[0m: 'CountVectorizer' object has no attribute 'vocabulary'"
     ]
    }
   ],
   "source": [
    "vectorizer.fit_transform(train_set)\n",
    "print vectorizer.vocabulary\n",
    "{'blue': 0, 'sun': 1, 'bright': 2, 'sky': 3}"
   ]
  },
  {
   "cell_type": "code",
   "execution_count": null,
   "metadata": {
    "collapsed": true
   },
   "outputs": [],
   "source": []
  }
 ],
 "metadata": {
  "kernelspec": {
   "display_name": "Python 2",
   "language": "python",
   "name": "python2"
  },
  "language_info": {
   "codemirror_mode": {
    "name": "ipython",
    "version": 2
   },
   "file_extension": ".py",
   "mimetype": "text/x-python",
   "name": "python",
   "nbconvert_exporter": "python",
   "pygments_lexer": "ipython2",
   "version": "2.7.10"
  }
 },
 "nbformat": 4,
 "nbformat_minor": 0
}
