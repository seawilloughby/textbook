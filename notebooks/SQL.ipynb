{
 "cells": [
  {
   "cell_type": "markdown",
   "metadata": {},
   "source": [
    "###Relational Databases:\n",
    "    -Posgre SQL, (this one)\n",
    "    - MySQL, and \n",
    "    - SQLite\n"
   ]
  },
  {
   "cell_type": "markdown",
   "metadata": {},
   "source": [
    "####TABLE BASICS\n",
    "\n",
    "- Every database has a SCHEMA: defines the structure of the database \n",
    "- Each have different DATA TYPE : integer, string (varchar), date   \n",
    "- PRIMARY KEY uniquely idetifies an entry \n",
    "\n",
    "```sql\n",
    "CREATE TABLE users {\n",
    "  id INTEGER PRIMARY KEY,\n",
    "  name VARCHAR(255),\n",
    "  age INTEGER,\n",
    "  city VARCHAR(255),\n",
    "  state VARCHAR(2)\n",
    "}\n",
    "```\n",
    "\n",
    "####FOREIGN KEYS\n",
    "- columns that refrence a different entry in the database: same or different table\n",
    "- in this example, everytime a user visits a website, an entry is put in the visits table. \n",
    "- you can see that we tell it here that this user_id is connected to id in the users table.\n",
    "```sql\n",
    "CREATE TABLE visits {\n",
    "  id INTEGER PRIMARY KEY,\n",
    "  created_at TIMESTAMP,\n",
    "  user_id INTEGER REFERENCES users(id)\n",
    "}\n",
    "```"
   ]
  },
  {
   "cell_type": "markdown",
   "metadata": {},
   "source": [
    "##TO START SQLite3\n",
    "Easy:\n",
    "$sqlite3 directoryname.sqlite\n",
    "\n",
    "Once in, basic commands:\n",
    " - .header on\n",
    " - .tables\n",
    " - .schema directoryname\n",
    "\n",
    "##TO START POSTGRESS\n",
    "\n",
    "    1) start postgress in your computer\n",
    "    2) go to Bash, and run psql by typing 'psql'\n",
    "    3) create an empty database to load your database into\n",
    "```sql\n",
    "CREATE DATABASE databasename;\n",
    "\\q\n",
    "```\n",
    "    4) Go to where the .sql file is and type:\n",
    " ```sql\n",
    "psql databasename < databasename.sql\n",
    "```\n",
    "    5) Now we are in the command client. so, enter it by:\n",
    "   \n",
    " ```sql\n",
    "psql databasename\n",
    "```\n",
    "\n",
    "    6) Wanna see the tables?  \\d\n",
    "    7) wanna see the columns for tabels?  \\d tabelname\n"
   ]
  },
  {
   "cell_type": "code",
   "execution_count": 2,
   "metadata": {
    "collapsed": true
   },
   "outputs": [],
   "source": [
    "import sqlite3 as sql\n",
    "def run_sql_query(command, db):\n",
    "    if not command:\n",
    "        return []\n",
    "    con = sql.connect(db)\n",
    "    c = con.cursor()\n",
    "    data = c.execute(command)\n",
    "    result = [d for d in data]\n",
    "    con.close()\n",
    "    return result"
   ]
  },
  {
   "cell_type": "markdown",
   "metadata": {},
   "source": [
    "## Keyword Cheatsheet\n",
    "\n",
    "* Return values\n",
    "  * SELECT\n",
    "  * DISTINCT\n",
    "* Tables and rows\n",
    "  * FROM\n",
    "  * JOIN\n",
    "    * INNER\n",
    "    * LEFT, RIGHT\n",
    "    * FULL\n",
    "* Filtering\n",
    "  * WHERE\n",
    "  * =, !=, >, <, >=, <=\n",
    "  * AND, OR\n",
    "  * IN, NOT IN\n",
    "  * LIKE\n",
    "  * IS NULL, IS NOT NULL\n",
    "  * LIMIT\n",
    "  * BETWEEN\n",
    "* Aggregating\n",
    "  * GROUP BY\n",
    "  * COUNT\n",
    "  * MAX, MIN\n",
    "  * SUM\n",
    "  * AVG\n",
    "  * HAVING\n",
    "* Ordering\n",
    "  * ORDER BY\n",
    "* Aliasing\n",
    "  * AS\n"
   ]
  },
  {
   "cell_type": "markdown",
   "metadata": {},
   "source": [
    "cool resource:\n",
    "    http://blog.yhathq.com/posts/sql-for-data-scientists.html"
   ]
  },
  {
   "cell_type": "markdown",
   "metadata": {},
   "source": [
    "####date tips for postgress:\n",
    "    date_trunc, to_char, and to_timestamp can take you a pretty long way in terms for formatting and type conversion. For extracting certain values from a date (say the day of the week) you can use date_part.\n"
   ]
  },
  {
   "cell_type": "markdown",
   "metadata": {},
   "source": [
    "```sql\n",
    "select\n",
    "    date_trunc('year', '2013-04-05'::date) as year\n",
    "    , date_trunc('month', '2013-04-05'::date) as month\n",
    "    , date_trunc('day', '2013-04-05'::date) as day;\n",
    " \n",
    "--          year          |         month          |          day           \n",
    "--------------------------+------------------------+------------------------\n",
    "-- 2013-01-01 00:00:00-05 | 2013-04-01 00:00:00-04 | 2013-04-05 00:00:00-04\n",
    "\n",
    "select\n",
    "    to_char('2013-04-05'::date, 'YYYY') as year\n",
    "    , to_char('2013-04-05'::date, 'MM-YYYY') as month\n",
    "    , to_char('2013-04-05'::date, 'YYYYMMDD') as day;\n",
    "\n",
    "-- year |  month  |   day    \n",
    "--------+---------+----------\n",
    "-- 2013 | 04-2013 | 20130405\n",
    " \n",
    "select\n",
    "    to_timestamp(1365560673);\n",
    "--      to_timestamp      \n",
    "------------------------\n",
    "-- 2013-04-09 22:24:33-04\n",
    "\n",
    "select date_part('day', '2013-04-05'::date);\n",
    "\n",
    "-- date_part \n",
    "-------------\n",
    "--         5\n",
    "\n",
    "select date_part('second', to_timestamp(1365560673));\n",
    "\n",
    "--date_part \n",
    "-------------\n",
    "--        33\n",
    "```"
   ]
  },
  {
   "cell_type": "raw",
   "metadata": {},
   "source": [
    "\n",
    "SELECT type, AVG(price) as averageprice, MIN(price), MAX(price) \n",
    "FROM meals \n",
    "GROUP BY type;\n",
    "\n",
    "SELECT meal_id, \n",
    "\tSUM(CASE WHEN event = 'bought' THEN 1 ELSE 0 END) as bought, \n",
    "\tSUM(CASE WHEN event = 'like' THEN 1 ELSE 0 END) as like,\n",
    "\tSUM(CASE WHEN event = 'share' THEN 1 ELSE 0 END) as share,\n",
    "FROM events\n",
    "GROUP BY meal_id;\n",
    "    type    |    averageprice     | min | max\n",
    "------------+---------------------+-----+-----\n",
    " mexican    |  9.6975945017182131 |   6 |  13\n",
    " french     | 11.5420000000000000 |   7 |  16\n",
    " japanese   |  9.3804878048780488 |   6 |  13\n",
    " italian    | 11.2926136363636364 |   7 |  16\n",
    " chinese    |  9.5187165775401070 |   6 |  13\n",
    " vietnamese |  9.2830188679245283 |   6 |  13\n",
    "(6 rows)"
   ]
  },
  {
   "cell_type": "markdown",
   "metadata": {},
   "source": [
    "##Temporary Tabels:\n"
   ]
  },
  {
   "cell_type": "markdown",
   "metadata": {},
   "source": [
    "WITH t1 AS (\n",
    "    SELECT COUNT(event), EXTRACT(DOW FROM dt) AS day\n",
    "    FROM events\n",
    "    WHERE event = 'bought'\n",
    "    GROUP BY EXTRACT(DOW FROM dt)\n",
    "    )\n",
    "SELECT day\n",
    "FROM t1 JOIN (SELECT MAX(count) as max\n",
    "              FROM t1\n",
    "              ) AS t2\n",
    "ON t1.count = t2.max;\n"
   ]
  },
  {
   "cell_type": "code",
   "execution_count": 6,
   "metadata": {
    "collapsed": true
   },
   "outputs": [],
   "source": [
    "import numpy as np"
   ]
  },
  {
   "cell_type": "code",
   "execution_count": null,
   "metadata": {
    "collapsed": true
   },
   "outputs": [],
   "source": [
    "np.where()"
   ]
  }
 ],
 "metadata": {
  "kernelspec": {
   "display_name": "Python 2",
   "language": "python",
   "name": "python2"
  },
  "language_info": {
   "codemirror_mode": {
    "name": "ipython",
    "version": 2
   },
   "file_extension": ".py",
   "mimetype": "text/x-python",
   "name": "python",
   "nbconvert_exporter": "python",
   "pygments_lexer": "ipython2",
   "version": "2.7.10"
  }
 },
 "nbformat": 4,
 "nbformat_minor": 0
}
