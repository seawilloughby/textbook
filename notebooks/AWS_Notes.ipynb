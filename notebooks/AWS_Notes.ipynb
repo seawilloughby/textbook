{
 "cells": [
  {
   "cell_type": "markdown",
   "metadata": {},
   "source": [
    "#AWS:\n",
    "\n",
    "    Name   |Full Name                  |Service\n",
    "    ----   |---------                  |-------\n",
    "    EC2    |Elastic Compute Cloud      |Execution\n",
    "    S3     |Simple Storage Service     |Storage\n",
    "    EBS    |Elastic Block Store        |Storage attached to EC2 instances\n",
    "\n",
    "###Security Credentials\n",
    "Create Security Credentials. Go to the AWS security credentials page. If you are asked about IAM users, close the message. \n",
    " - Expand <b>Access Keys</b> and \n",
    " - click <b>Create New Access Key</b>. You will see a message Your access key (access key ID and secret access key) has been created successfully. \n",
    " - Click Download Key File and save it to your home directory.\n",
    "\n",
    "Remember where this file is. It contains the <b>Access Key ID </b> and <b>Secret Access Key</b>.\n",
    "\n",
    "[AWS security credientials](https://console.aws.amazon.com/iam/home?region=us-east-1#security_credential)"
   ]
  },
  {
   "cell_type": "markdown",
   "metadata": {},
   "source": [
    "###Set up EC2 key pair\n",
    "\n",
    "To connect to an Amazon EC2 instances, you need to create an <b>SSH key pair</b>.\n",
    "\n",
    " - set up account with [EC2 Homepage](https://console.aws.amazon.com/ec2/v2/home)\n",
    " - Make sure region is N.Virgina\n",
    " - Download and save the <b>.pem</b> private key file to a new folder <b>.ssh</b> in your home directory. Any folder that starts with a . will hide the folder. In this case, you want to hide the sensitive information. \n",
    " - keypairs are visible on the left, <b> Network And Security</b> --> <b>Key Pairs</b>\n",
    " - Change the permissions of the file using this command:\n",
    " \n",
    " `$ chmod 600 </path/to/saved/keypair/file.pem>`"
   ]
  },
  {
   "cell_type": "markdown",
   "metadata": {},
   "source": [
    "###Set up a new EC2 instance:\n",
    "- EC2 Dashboard\n",
    "- launch Instance\n",
    "- Find Ubuntu \n",
    "- Choose defaults, but you can increase storage size\n",
    "- Select the key pair that matches the one on your computer\n",
    "\n",
    "\n",
    "###Configure the EC2 Instance\n",
    "\n",
    "####1.  ssh in\n",
    "    make a file (will run this in terminal) \n",
    "    \n",
    "    `$ssh -i ~/.ssh/newkeypair.pem ubuntu@ec2-52-2-75-46.compute-1.amazonaws.com `\n",
    "\n",
    "     - rootkey.pem: name of your rootkey\n",
    "     - @ec2....  <b>Public DNS</b>, from ec2 website, when look up instances\n",
    " \n",
    " - once you are IN the machine, run:\n",
    "\n",
    "    ` sudo apt-get install git`\n",
    " - This installs git on lunix for you. Then you can clone all your scripts onto the machine easily! \n",
    " \n",
    "####2. give the computer necissary files\n",
    "Update the sudo apt methods. Install python, and then pip install whatever you want. Like flask, ect. Probably will put all of them on a txt file, and then will just intall the requirements page\n",
    " - go to where the scripts are present. Go into the machine with 'sh'. \n",
    " - <b>sh</b> is a bash command that runs shell scripts. These files are shell scripts because they are called .sh\n",
    "     - `$sh ssh_aws.sh` to run the script `ssh -i ~/.ssh/rootkeyname.pem ubuntu@ec2-hostname...amazonaws.com`\n",
    "    \n",
    " - Install git on the new remote computer \n",
    " \n",
    "    `sudo apt-get install git\n",
    "    git clone http://....mediamapper`\n",
    "    \n",
    " - cd from media mapper into scripts, and you can run the setup linux script (below)\n",
    "     go into mediamapper/scripts/ `sh setup_linux.sh`\n",
    " \n",
    "```bash\n",
    "sudo apt-get update\n",
    "sudo apt-get upgrade\n",
    "sudo apt-get install python-pip\n",
    "sudo apt-get install python-dev\n",
    "\n",
    "sudo pip install tweepy\n",
    "```\n",
    "\n",
    "- <b>screen</b> is a way to put your terminal in the background, so when you close the window, it doesn't shut it down.\n",
    "    - `screen`  start up a screen instance. Do this before you run your scripts\n",
    "    - `screen -ls` shows you want screen instances are running \n",
    "    - `cntrl a    d ` detaches from a screen instance. Now it can run in the background.\n",
    "    - `screen -r`  to reattach to a screen instance. If more than one, have to copy paste the instnace id\n",
    "    \n",
    "    `screen -ls`\n",
    "    \n",
    "    `screen -X -S [session # you want to kill] quit`\n",
    "    \n",
    "    \n",
    "##### SO TO REITERATE\n",
    "- START BASH\n",
    "\n",
    "- ``$ssh -i ~/.ssh/rootkey1.pem ubuntu@ec2-52-2-75-46.compute-1.amazonaws.com `  to get back in to my EC2 instance \n",
    "- make sure it knows all the keys (Export...)\n",
    "- `screen` to start a screen\n",
    "- start your process (run twitter or wahterver)\n",
    "- `cntrl a    d` to detach it so it can run in the background. I can close bash and it will still run.\n",
    "\n",
    "\n",
    "- `screen -r` to reattach the screen instance. Now shutting the terminal will stop the process\n",
    "\n",
    "- `ls -la` will show all the files. Use this to see if they are getting bigger! \n"
   ]
  },
  {
   "cell_type": "code",
   "execution_count": null,
   "metadata": {
    "collapsed": true
   },
   "outputs": [],
   "source": [
    "ssh -i ~/.ssh/rootkey1.pem ubuntu@ec2-52-2-75-46.compute-1.amazonaws.com"
   ]
  },
  {
   "cell_type": "markdown",
   "metadata": {},
   "source": [
    "\n",
    "###Transfer to A Bucket\n",
    "\n",
    "For how to transfer info from an EC2 to a bucket, \n",
    "see solutions to <b>High Performance Python</b>\n",
    "\n",
    "Run the script on the EC2 instance and check S3 to make the results are transferred to a new bucket. In practice, you will be testing the script locally with a smaller subset of the data and run the script on the whole set on EC2. You would also run it on a more powerful EC2 instance with more RAM and more cores.\n"
   ]
  },
  {
   "cell_type": "code",
   "execution_count": null,
   "metadata": {
    "collapsed": true
   },
   "outputs": [],
   "source": [
    "##Get a Bucket\n",
    "drxt.twitter.data\n"
   ]
  },
  {
   "cell_type": "markdown",
   "metadata": {},
   "source": [
    "##Special Notes For Setting up Scripts\n",
    "\n",
    "1) The keys are kept in the home directory, in a .keys folder\n",
    " source the folder make_keys.sh each time you run bash, and then you can import mediamapper.keys which sournces the keys with os\n",
    " \n",
    "2) If you add keys, update the keys.py file in media mapper\n",
    "\n",
    "3) Then update stencil to include the new file.\n",
    "\n",
    "Go to repos/media_mapper\n",
    "\n",
    "`sudo python setup.py install`\n",
    "\n",
    "\n",
    "The linux scrip in media maper, setup linux. make sure i put any new libraries in it. "
   ]
  },
  {
   "cell_type": "code",
   "execution_count": null,
   "metadata": {
    "collapsed": true
   },
   "outputs": [],
   "source": [
    "1) you can put your code in media mapper [scraper_tools.py can contain your scraping functions]\n",
    "2) in the __init__.py file import scraper_tools\n",
    "3) sudo python setup.py install"
   ]
  },
  {
   "cell_type": "markdown",
   "metadata": {
    "collapsed": true
   },
   "source": [
    "To Configure Bucket: \n",
    "\n",
    "`sudo apt-get install s3cmd`\n",
    "[manage buckets](http://tecadmin.net/install-s3cmd-manage-amazon-s3-buckets/)\n",
    "Configuration saved to '/home/ubuntu/.s3cfg'\n",
    "\n",
    "put all of one file in a bucket:\n",
    "In your ect, from the folder, do this:\n",
    "\n",
    "`s3cmd put -r results s3://drxt.twitter.data`\n",
    "\n",
    "EASY! Get files off buket onto my own computer:\n",
    "fro mown comp:\n",
    "`s3cmd get s3://drxt.twitter.data/results/*  ~/Desktop` place to put it\n",
    "\n",
    "`s3cmd get s3://drxt.twitter.data/newfolder/results/*  ~/Desktop\n",
    "\n",
    "`rm -rf results`\n",
    "\n",
    "to get stuff from json's bucket:\n",
    "- go into ec2 instance\n",
    "- ` s3cmd get -r s3://jshiverick1/twitter_data/`\n"
   ]
  },
  {
   "cell_type": "code",
   "execution_count": null,
   "metadata": {
    "collapsed": true
   },
   "outputs": [],
   "source": [
    "$scp -i ~/.ssh/newkeypair.pem ~/Desktop/MS115.fa  ubuntu@ec2-52-2-75-46.compute-1.amazonaws.com:~/data/\n"
   ]
  },
  {
   "cell_type": "code",
   "execution_count": null,
   "metadata": {
    "collapsed": true
   },
   "outputs": [],
   "source": [
    "http://www.coolestguidesontheplanet.com/downtown/connect-amazon-s3-bucket-command-line-os-x"
   ]
  }
 ],
 "metadata": {
  "kernelspec": {
   "display_name": "Python 2",
   "language": "python",
   "name": "python2"
  },
  "language_info": {
   "codemirror_mode": {
    "name": "ipython",
    "version": 2
   },
   "file_extension": ".py",
   "mimetype": "text/x-python",
   "name": "python",
   "nbconvert_exporter": "python",
   "pygments_lexer": "ipython2",
   "version": "2.7.10"
  }
 },
 "nbformat": 4,
 "nbformat_minor": 0
}
