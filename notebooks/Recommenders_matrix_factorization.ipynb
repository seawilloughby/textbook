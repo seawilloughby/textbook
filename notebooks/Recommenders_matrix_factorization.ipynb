{
 "cells": [
  {
   "cell_type": "markdown",
   "metadata": {},
   "source": [
    "##Recommenders\n",
    "\n",
    "#####Four Main Types:\n",
    "1. Popularity\n",
    "    - most viewed, well liked, ect\n",
    "    - Con: Not customized to users\n",
    "2. User-User\n",
    "    - recommend items liked by users with similar ratings\n",
    "    - computationally difficult if more users than items\n",
    "3. Item-Item\n",
    "    - recommend items similar to waht the user rated favorably\n",
    "4. Matrix Factorization\n",
    "    - estimate user's underlying prefrences for product characteristics\n",
    "    - a subset of SVD \n",
    "    \n",
    "#####How do we Evaluate Them?\n",
    "1. Cosine Similarity\n",
    "    - good for Numeric ratings\n",
    "2. Jacard\n",
    "    - good for Binary/ Event Data\n"
   ]
  }
 ],
 "metadata": {
  "kernelspec": {
   "display_name": "Python 2",
   "language": "python",
   "name": "python2"
  },
  "language_info": {
   "codemirror_mode": {
    "name": "ipython",
    "version": 2
   },
   "file_extension": ".py",
   "mimetype": "text/x-python",
   "name": "python",
   "nbconvert_exporter": "python",
   "pygments_lexer": "ipython2",
   "version": "2.7.10"
  }
 },
 "nbformat": 4,
 "nbformat_minor": 0
}
