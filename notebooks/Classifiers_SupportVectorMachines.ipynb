{
 "cells": [
  {
   "cell_type": "code",
   "execution_count": 52,
   "metadata": {
    "collapsed": false
   },
   "outputs": [],
   "source": [
    "#get some test data and the libraries\n",
    "from sklearn.svm import SVC, LinearSVC\n",
    "import matplotlib.pyplot as plt\n",
    "import numpy as np\n",
    "import pandas as pd\n",
    "from sklearn.cross_validation import train_test_split\n",
    "%matplotlib inline\n",
    "\n",
    "df = pd.read_csv('data/data_scientist.csv')\n",
    "y_ds = df.pop('data_scientist')\n",
    "x_ds = df\n",
    "x_train, x_test, y_train, y_test = train_test_split(x_ds, y_ds)\n"
   ]
  },
  {
   "cell_type": "markdown",
   "metadata": {},
   "source": [
    "###Support Vector Machines\n"
   ]
  },
  {
   "cell_type": "code",
   "execution_count": 3,
   "metadata": {
    "collapsed": false
   },
   "outputs": [
    {
     "data": {
      "text/html": [
       "<div style=\"max-height:1000px;max-width:1500px;overflow:auto;\">\n",
       "<table border=\"1\" class=\"dataframe\">\n",
       "  <thead>\n",
       "    <tr style=\"text-align: right;\">\n",
       "      <th></th>\n",
       "      <th>email_hours</th>\n",
       "      <th>gym_hours</th>\n",
       "      <th>data_scientist</th>\n",
       "    </tr>\n",
       "  </thead>\n",
       "  <tbody>\n",
       "    <tr>\n",
       "      <th>0</th>\n",
       "      <td>18.995746</td>\n",
       "      <td>6.879446</td>\n",
       "      <td>1</td>\n",
       "    </tr>\n",
       "    <tr>\n",
       "      <th>1</th>\n",
       "      <td>19.178514</td>\n",
       "      <td>5.954391</td>\n",
       "      <td>1</td>\n",
       "    </tr>\n",
       "    <tr>\n",
       "      <th>2</th>\n",
       "      <td>20.895603</td>\n",
       "      <td>11.638996</td>\n",
       "      <td>1</td>\n",
       "    </tr>\n",
       "    <tr>\n",
       "      <th>3</th>\n",
       "      <td>22.242337</td>\n",
       "      <td>10.323360</td>\n",
       "      <td>1</td>\n",
       "    </tr>\n",
       "    <tr>\n",
       "      <th>4</th>\n",
       "      <td>38.854161</td>\n",
       "      <td>26.899764</td>\n",
       "      <td>0</td>\n",
       "    </tr>\n",
       "  </tbody>\n",
       "</table>\n",
       "</div>"
      ],
      "text/plain": [
       "   email_hours  gym_hours  data_scientist\n",
       "0    18.995746   6.879446               1\n",
       "1    19.178514   5.954391               1\n",
       "2    20.895603  11.638996               1\n",
       "3    22.242337  10.323360               1\n",
       "4    38.854161  26.899764               0"
      ]
     },
     "execution_count": 3,
     "metadata": {},
     "output_type": "execute_result"
    }
   ],
   "source": [
    "df.head()"
   ]
  },
  {
   "cell_type": "markdown",
   "metadata": {},
   "source": [
    "Support Vector Classifiers\n",
    "\n",
    "- hyperplane: one less dimension than your data. \n",
    "- Margin: the smallest distance from an observtion to the hyperplane\n",
    "    The overall goal is to select a margin that maximizes the distance between points and the hyperplane. This is how you optimize the function\n",
    "- support vectors: define the margin\n",
    "- E - tells where the error is relative to the margin and hyperplane\n",
    "    E = 0, on right side\n",
    "    E > 0, point on the wrong side, it has violated the margine\n",
    "    E < 1 on the wrong side of the hyperplan\n",
    "- C determines the severity of margins it will tolerate. \n",
    "    - C = 0, no budget for violations. a Maximal Margin Hypoerplane. \n",
    "    - choose C by cross validation.\n",
    "    - small C: narrow margin, highly fit, low bias hi variance\n",
    "\n",
    "Support Vector Machines:\n",
    "\n",
    "- a solution for nonlinear problems.\n",
    "- Use kernels to seperate the data\n",
    "    - Gaussian ** (RBF - Radial Basis Function)\n",
    "        - gamma is a hyper parameter that determines the spread of gaussian around each point \n",
    "    - Polynominal\n",
    "        - d is a hyperparameter that determines the degree of the polynominal transformation\n",
    "        - at high degrees may lead to overfitting\n",
    "    - Sigmoid"
   ]
  },
  {
   "cell_type": "code",
   "execution_count": 43,
   "metadata": {
    "collapsed": false,
    "scrolled": true
   },
   "outputs": [
    {
     "data": {
      "image/png": "[encoded data removed]",
      "text/plain": [
       "<matplotlib.figure.Figure at 0x1080fc610>"
      ]
     },
     "metadata": {},
     "output_type": "display_data"
    }
   ],
   "source": [
    "model = LinearSVC() #this one is faster\n",
    "\n",
    "model = SVC(kernel='linear')\n",
    "model.fit(x_train, y_train)\n",
    "plot_svc_decision(model)\n",
    "plt.scatter(x_train[:,1], x_train[:,0,], s=150, c = y_train, alpha = .4)\n",
    "#plt.scatter(x[:, 0], x[:, 1], c = df['0.1'].map({0: 'r', 1: 'b'}), alpha = 0.4, s = 70)\n",
    "plt.xlabel('gym_hours')\n",
    "plt.ylabel('email_hours')\n",
    "plt.ylim(0, 50)\n",
    "plt.show()\n"
   ]
  },
  {
   "cell_type": "markdown",
   "metadata": {},
   "source": [
    "###example code to fit a SVC with a kernel.\n",
    "####Use grid search to determine the best parameters\n",
    "\n",
    "Set scoring='accuracy' to set the scoring type to classification accuracy and cv=10 to set the number of folds in K-fold CV to 10.You can find the result of the grid serach in gsCV.grid_scores_ and the winner in gsCV.best_params_. Conduct a grid search over several possible values of C and d and find out what the best combination is.\n",
    "\n",
    "So for polynominal, alter degree and C\n",
    "For RBF, alter C and gamma"
   ]
  },
  {
   "cell_type": "code",
   "execution_count": null,
   "metadata": {
    "collapsed": true
   },
   "outputs": [],
   "source": [
    "#example\n",
    "from sklearn.grid_search import GridSearchCV as GS\n",
    "\n",
    "model_poly = SVC(kernel = 'poly')\n",
    "parameters = {'C':np.linspace(0.01, 5, 20), 'degree':np.arange(10)}\n",
    "gs = GS(model_poly, parameters, scoring='accuracy', cv=5, n_jobs = -1)\n",
    "%time gs.fit(X, y)\n",
    "print 'Poly'\n",
    "print 'Best Params: {}'.format(gs.best_params_)\n",
    "print 'Accuracy: {}'.format(gs.best_score_)"
   ]
  },
  {
   "cell_type": "code",
   "execution_count": null,
   "metadata": {
    "collapsed": true
   },
   "outputs": [],
   "source": []
  },
  {
   "cell_type": "markdown",
   "metadata": {},
   "source": [
    "##More than One Class?\n",
    "\n",
    "- One vs Rest\n",
    "    - takes each classifer, and compares it to all the others as a group\n",
    "\n",
    "- One vs One\n",
    "    - compares every classifer to every other one. "
   ]
  },
  {
   "cell_type": "code",
   "execution_count": 51,
   "metadata": {
    "collapsed": false
   },
   "outputs": [],
   "source": [
    "from sklearn.multiclass import OneVsOneClassifier, OneVsRestClassifier\n",
    "from sklearn.metrics import recall_score, precision_score, accuracy_score\n"
   ]
  },
  {
   "cell_type": "code",
   "execution_count": null,
   "metadata": {
    "collapsed": true
   },
   "outputs": [],
   "source": [
    "#EXAMPLE CODE\n",
    "#X_train, X_test, y_train, y_test = train_test_split(X, y)\n",
    "y_pred = OneVsRestClassifier(LogisticRegression(random_state=0)).fit(X_train, y_train).predict(X_test)\n",
    "print \"Recall score:\", recall_score(y_test, y_pred)\n",
    "print \"Precision score:\", precision_score(y_test, y_pred)\n",
    "print \"Accuracy score:\", accuracy_score(y_test, y_pred)"
   ]
  },
  {
   "cell_type": "markdown",
   "metadata": {},
   "source": [
    "##When using SVC, you need to scale X. \n",
    "This is because uneven ranges can effect the hyerplane\n",
    "####Two Methods:"
   ]
  },
  {
   "cell_type": "markdown",
   "metadata": {},
   "source": [
    "#####use pipeline to scale x data"
   ]
  },
  {
   "cell_type": "markdown",
   "metadata": {},
   "source": [
    "Scale x1 and x2 using the StandardScaler. Use Pipeline to specify the step following the StandardScaler, which would be fitting the scaled features to a linear kernel SVC to predict y. Pipeline is a good practice to keep track of the transformations leading up to fitting the predictive model. Below is a snippet demonstrating the use of Pipeline."
   ]
  },
  {
   "cell_type": "code",
   "execution_count": 54,
   "metadata": {
    "collapsed": false
   },
   "outputs": [
    {
     "data": {
      "text/plain": [
       "array([[-0.75948274, -0.90854631]])"
      ]
     },
     "execution_count": 54,
     "metadata": {},
     "output_type": "execute_result"
    }
   ],
   "source": [
    "from sklearn.pipeline import Pipeline\n",
    "from sklearn.preprocessing import StandardScaler\n",
    "from sklearn.svm import SVC\n",
    "\n",
    "pipeline = Pipeline([('scaler', StandardScaler()),\n",
    "                    ('svc', SVC(kernel='linear'))])\n",
    "pipeline.fit(x_ds, y_ds)\n",
    "pipeline.steps[1][1].coef_\n",
    "pipeline.named_steps['svc'].coef_"
   ]
  },
  {
   "cell_type": "markdown",
   "metadata": {},
   "source": [
    "#####use scale"
   ]
  },
  {
   "cell_type": "code",
   "execution_count": 6,
   "metadata": {
    "collapsed": false
   },
   "outputs": [],
   "source": [
    "from sklearn.preprocessing import StandardScaler, scale\n",
    "\n",
    "scaler = StandardScaler()\n",
    "scaler.fit(x)\n",
    "x = scaler.transform(x)"
   ]
  },
  {
   "cell_type": "markdown",
   "metadata": {},
   "source": [
    "##Example Plot Functions"
   ]
  },
  {
   "cell_type": "code",
   "execution_count": 28,
   "metadata": {
    "collapsed": true
   },
   "outputs": [],
   "source": [
    "def plot_svc_decision(svc, show=False):\n",
    "    # get the separating hyperplane\n",
    "    w = svc.coef_[0]\n",
    "    a = -w[0] / w[1]\n",
    "    xx = np.linspace(5, 35)\n",
    "    yy = a * xx - (svc.intercept_[0]) / w[1]\n",
    "\n",
    "    # plot the parallels to the separating hyperplane that pass through the\n",
    "    # support vectors\n",
    "    margin = 1 / np.sqrt(np.sum(svc.coef_ ** 2))\n",
    "    yy_down = yy + a * margin\n",
    "    yy_up = yy - a * margin\n",
    "\n",
    "    # plot the line, the points, and the nearest vectors to the plane\n",
    "    plt.plot(xx, yy, 'k-')\n",
    "    plt.plot(xx, yy_down, 'k--')\n",
    "    plt.plot(xx, yy_up, 'k--')\n",
    "\n",
    "    if show:\n",
    "        plt.show()"
   ]
  },
  {
   "cell_type": "markdown",
   "metadata": {},
   "source": [
    "####visualize non-linear decision boundary!"
   ]
  },
  {
   "cell_type": "code",
   "execution_count": 47,
   "metadata": {
    "collapsed": true
   },
   "outputs": [],
   "source": [
    "def decision_boundary(clf, X, Y, h=.02):\n",
    "    \"\"\"Inputs:\n",
    "        clf - a trained classifier, with a predict method\n",
    "    \"\"\"\n",
    "    # Plot the decision boundary. For that, we will assign a color to each\n",
    "    # point in the mesh [x_min, m_max]x[y_min, y_max].\n",
    "    x_min, x_max = X[:, 0].min() - .5, X[:, 0].max() + .5\n",
    "    y_min, y_max = X[:, 1].min() - .5, X[:, 1].max() + .5\n",
    "    xx, yy = np.meshgrid(np.arange(x_min, x_max, h), np.arange(y_min, y_max, h))\n",
    "    Z = clf.predict(np.c_[xx.ravel(), yy.ravel()])\n",
    "\n",
    "    # Put the result into a color plot\n",
    "    Z = Z.reshape(xx.shape)\n",
    "    plt.figure(1, figsize=(4, 3))\n",
    "    plt.pcolormesh(xx, yy, Z, cmap=plt.cm.Paired)\n",
    "\n",
    "    # Plot also the training points\n",
    "    plt.scatter(X[:, 0], X[:, 1], c=Y, edgecolors='k', cmap=plt.cm.Paired)\n",
    "\n",
    "    plt.xlim(xx.min(), xx.max())\n",
    "    plt.ylim(yy.min(), yy.max())\n",
    "    plt.xticks(())\n",
    "    plt.yticks(())\n",
    "    plt.show()"
   ]
  },
  {
   "cell_type": "code",
   "execution_count": 53,
   "metadata": {
    "collapsed": false
   },
   "outputs": [
    {
     "data": {
      "image/png": "[encoded data removed]",
      "text/plain": [
       "<matplotlib.figure.Figure at 0x107c68f90>"
      ]
     },
     "metadata": {},
     "output_type": "display_data"
    }
   ],
   "source": [
    "model = SVC(kernel='rbf')\n",
    "model.fit(x_train, y_train)\n",
    "decision_boundary(model, x_train, y_train)\n"
   ]
  },
  {
   "cell_type": "code",
   "execution_count": null,
   "metadata": {
    "collapsed": true
   },
   "outputs": [],
   "source": []
  }
 ],
 "metadata": {
  "kernelspec": {
   "display_name": "Python 2",
   "language": "python",
   "name": "python2"
  },
  "language_info": {
   "codemirror_mode": {
    "name": "ipython",
    "version": 2
   },
   "file_extension": ".py",
   "mimetype": "text/x-python",
   "name": "python",
   "nbconvert_exporter": "python",
   "pygments_lexer": "ipython2",
   "version": "2.7.10"
  }
 },
 "nbformat": 4,
 "nbformat_minor": 0
}
