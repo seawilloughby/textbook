{
 "cells": [
  {
   "cell_type": "markdown",
   "metadata": {},
   "source": [
    "Refrences for using Mongo:\n",
    "http://s3.amazonaws.com/info-mongodb-com/mongodb_qrc_booklet.pdf\n",
    "http://docs.mongodb.org/v2.2/mongo/\n",
    "https://blog.codecentric.de/files/2012/12/MongoDB-CheatSheet-v1_0.pdf"
   ]
  },
  {
   "cell_type": "markdown",
   "metadata": {},
   "source": [
    "#### load data from a data folder:\n"
   ]
  },
  {
   "cell_type": "markdown",
   "metadata": {},
   "source": [
    "mongoimport --db clicks --collection log < click_log.json"
   ]
  },
  {
   "cell_type": "code",
   "execution_count": null,
   "metadata": {
    "collapsed": true
   },
   "outputs": [],
   "source": [
    "show dbs; #show all databases\n",
    "use clicks  #makes database 'clicks' the default database"
   ]
  },
  {
   "cell_type": "code",
   "execution_count": null,
   "metadata": {
    "collapsed": true
   },
   "outputs": [],
   "source": [
    "#add or update an entry:\n",
    "db.unicorns.insert({name: 'Aurora',\n",
    "gender: 'f', weight: 450})\n",
    "\n",
    "#get list of documents:\n",
    "db.unicorns.find()"
   ]
  },
  {
   "cell_type": "markdown",
   "metadata": {},
   "source": [
    "##SELECTORS"
   ]
  },
  {
   "cell_type": "code",
   "execution_count": null,
   "metadata": {
    "collapsed": true
   },
   "outputs": [],
   "source": [
    "db.collection.find()\n",
    "db.collection.findOne()\n",
    "db.collection.limit()\n",
    "db.collection.remove()\n",
    "db.collection.count()\n",
    "\n",
    "#example:\n",
    "#all male unicorns that weigh more than 700 pounds\n",
    "db.unicorns.find({gender: {$ne: 'f'}, weight: {$gte: 701}})\n",
    "\n",
    "$lt  # <\n",
    "$lte # <=\n",
    "$gt # >\n",
    "$gte # >=\n",
    "$ne # !=\n",
    "$exists   #presence or absence of field\n",
    "   db.collection.find({vampires: {$exists: false}})\n",
    "$in\n",
    "    #This returns any unicorn who loves ‘apple’ or ‘orange’\n",
    "    db.unicorns.find({\n",
    "    loves: {$in:['apple','orange']}})\n",
    "$or \n",
    "    #The above will return all female unicorns which either love apples \n",
    "    #or weigh less than 500 pounds\n",
    "    db.unicorns.find({gender: 'f',\n",
    "        $or: [{loves: 'apple'},\n",
    "            {weight: {$lt: 500}}]})"
   ]
  },
  {
   "cell_type": "markdown",
   "metadata": {},
   "source": [
    "##UPDATING\n"
   ]
  },
  {
   "cell_type": "code",
   "execution_count": null,
   "metadata": {
    "collapsed": true
   },
   "outputs": [],
   "source": [
    "#Have to use set or else it will autmatically overwirte the old entry\n",
    "\n",
    "$set\n",
    "    db.unicorns.update({name: 'Roooooodles'},\n",
    "    {$set: {weight: 590}})\n",
    "    \n",
    "$inc\n",
    "    #the $inc operator is used to increment a field by a certain positive or negative amount. \n",
    "    #If Pilot was incorrectly awarded a couple vampire kills, \n",
    "    #we could correct the mistake by executing:\n",
    "    db.unicorns.update({name: 'Pilot'},\n",
    "        {$inc: {vampires: -2}})\n",
    "\n",
    "    $push\n",
    "    #If Aurora suddenly developed a sweet tooth, \n",
    "    #we could add a value to her loves field via the $push operator:\n",
    "   db.unicorns.update({name: 'Aurora'},\n",
    "        {$push: {loves: 'sugar'}})\n",
    "\n",
    "{upsert:true}\n",
    "\"\"\"An upsert updates the document\n",
    "if found or inserts it if not. Upserts are handy to have in certain situations and when you run into one, you’ll know it.\n",
    "To enable upserting we pass a third parameter to update {upsert:true}.\"\"\"\n",
    "    db.hits.update({page: 'unicorns'},\n",
    "        {$inc: {hits: 1}}, {upsert:true});\n",
    "    db.hits.find();\n",
    "\n",
    "{multi:true}\n",
    "'''to update lots of documents, defaults one'''\n",
    "    #update it so that all unicorns are vaccinated\n",
    "    db.unicorns.update({},\n",
    "        {$set: {vaccinated: true }},\n",
    "        {multi:true});\n",
    "    db.unicorns.find({vaccinated: true});"
   ]
  }
 ],
 "metadata": {
  "kernelspec": {
   "display_name": "Python 2",
   "language": "python",
   "name": "python2"
  },
  "language_info": {
   "codemirror_mode": {
    "name": "ipython",
    "version": 2
   },
   "file_extension": ".py",
   "mimetype": "text/x-python",
   "name": "python",
   "nbconvert_exporter": "python",
   "pygments_lexer": "ipython2",
   "version": "2.7.10"
  }
 },
 "nbformat": 4,
 "nbformat_minor": 0
}
