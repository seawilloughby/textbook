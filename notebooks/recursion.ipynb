{
 "cells": [
  {
   "cell_type": "markdown",
   "metadata": {},
   "source": [
    "#example sum function to explain recursion "
   ]
  },
  {
   "cell_type": "code",
   "execution_count": 1,
   "metadata": {
    "collapsed": false
   },
   "outputs": [],
   "source": [
    "def sumot(lst):\n",
    "    if not lst:\n",
    "        return 0\n",
    "    #print lst[0], '+ runfunction on', lst[1:]\n",
    "    return lst[0] + sumot(lst[1:])\n",
    "        "
   ]
  },
  {
   "cell_type": "markdown",
   "metadata": {},
   "source": [
    "##Class TreeNode"
   ]
  },
  {
   "cell_type": "code",
   "execution_count": 3,
   "metadata": {
    "collapsed": false
   },
   "outputs": [],
   "source": [
    "class TreeNode(object):\n",
    "    def __init__(self, value, left=None, right=None):\n",
    "        self.value = value\n",
    "        self.left = left\n",
    "        self.right = right\n",
    "    "
   ]
  },
  {
   "cell_type": "markdown",
   "metadata": {},
   "source": [
    "#build a tree\n",
    "\n",
    "       1\n",
    "     /   \\\n",
    "    5     7\n",
    "     \\   / \\\n",
    "      3 1   2\n",
    "             \\\n",
    "              6"
   ]
  },
  {
   "cell_type": "code",
   "execution_count": 4,
   "metadata": {
    "collapsed": false
   },
   "outputs": [],
   "source": [
    "root = TreeNode(8)\n",
    "root.left = TreeNode(5)\n",
    "root.left.right = TreeNode(3)\n",
    "root.right = TreeNode(7)\n",
    "root.right.left = TreeNode(1)\n",
    "root.right.right = TreeNode(2)\n",
    "root.right.right.left = TreeNode(6)"
   ]
  },
  {
   "cell_type": "markdown",
   "metadata": {},
   "source": [
    "##example functions"
   ]
  },
  {
   "cell_type": "code",
   "execution_count": 5,
   "metadata": {
    "collapsed": false
   },
   "outputs": [],
   "source": [
    "def find_max(root):\n",
    "    if not root:\n",
    "        return -1\n",
    "    else:\n",
    "        return max((root.value, find_minimum(root.left), find_minimum(root.right)))"
   ]
  },
  {
   "cell_type": "code",
   "execution_count": 6,
   "metadata": {
    "collapsed": false
   },
   "outputs": [],
   "source": [
    "def build_tree(value, height):\n",
    "    '''Build a tree where each value is value of the given height.'''\n",
    "    if height == 0:\n",
    "        return None\n",
    "    return TreeNode(value, build_tree(value, height - 1), build_tree(value, height - 1))\n"
   ]
  },
  {
   "cell_type": "code",
   "execution_count": 7,
   "metadata": {
    "collapsed": false
   },
   "outputs": [],
   "source": [
    "def get_height(node):\n",
    "    '''Return the height of the tree.'''\n",
    "    if not node:\n",
    "        return 0\n",
    "    return 1 + max(get_height(node.left), get_height(node.right))\n"
   ]
  },
  {
   "cell_type": "code",
   "execution_count": 8,
   "metadata": {
    "collapsed": false
   },
   "outputs": [],
   "source": [
    "def equals(root1, root2):\n",
    "    if root1 is None and root2 is None:\n",
    "        return True\n",
    "    if root1 is None or root2 is None:\n",
    "        return False\n",
    "    if root1.value != root2.value:\n",
    "        return False\n",
    "    return equals(root1.left, root2.left) and equals(root1.right, root2.right)"
   ]
  },
  {
   "cell_type": "code",
   "execution_count": 9,
   "metadata": {
    "collapsed": false
   },
   "outputs": [],
   "source": [
    "def tree_to_list(root):\n",
    "    if not root:\n",
    "        return []\n",
    "    else:\n",
    "        return [root.value] + tree_to_list(root.left) + tree_to_list(root.right)\n"
   ]
  },
  {
   "cell_type": "code",
   "execution_count": null,
   "metadata": {
    "collapsed": false
   },
   "outputs": [],
   "source": []
  },
  {
   "cell_type": "code",
   "execution_count": null,
   "metadata": {
    "collapsed": true
   },
   "outputs": [],
   "source": []
  }
 ],
 "metadata": {
  "kernelspec": {
   "display_name": "Python 2",
   "language": "python",
   "name": "python2"
  },
  "language_info": {
   "codemirror_mode": {
    "name": "ipython",
    "version": 2
   },
   "file_extension": ".py",
   "mimetype": "text/x-python",
   "name": "python",
   "nbconvert_exporter": "python",
   "pygments_lexer": "ipython2",
   "version": "2.7.10"
  }
 },
 "nbformat": 4,
 "nbformat_minor": 0
}
