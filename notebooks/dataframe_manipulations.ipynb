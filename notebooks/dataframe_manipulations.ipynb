{
 "cells": [
  {
   "cell_type": "code",
   "execution_count": 35,
   "metadata": {
    "collapsed": true
   },
   "outputs": [],
   "source": [
    "import pandas as pd\n",
    "import matplotlib.pyplot as plt\n",
    "%matplotlib inline"
   ]
  },
  {
   "cell_type": "code",
   "execution_count": 12,
   "metadata": {
    "collapsed": false
   },
   "outputs": [],
   "source": [
    "#just some example data\n",
    "df = pd.read_csv('data/data_scientist.csv')"
   ]
  },
  {
   "cell_type": "code",
   "execution_count": 33,
   "metadata": {
    "collapsed": false
   },
   "outputs": [
    {
     "data": {
      "text/html": [
       "<div>\n",
       "<table border=\"1\" class=\"dataframe\">\n",
       "  <thead>\n",
       "    <tr style=\"text-align: right;\">\n",
       "      <th></th>\n",
       "      <th>email_hours</th>\n",
       "      <th>gym_hours</th>\n",
       "      <th>data_scientist</th>\n",
       "    </tr>\n",
       "  </thead>\n",
       "  <tbody>\n",
       "    <tr>\n",
       "      <th>0</th>\n",
       "      <td>18.995746</td>\n",
       "      <td>6.879446</td>\n",
       "      <td>1</td>\n",
       "    </tr>\n",
       "    <tr>\n",
       "      <th>1</th>\n",
       "      <td>19.178514</td>\n",
       "      <td>5.954391</td>\n",
       "      <td>1</td>\n",
       "    </tr>\n",
       "    <tr>\n",
       "      <th>2</th>\n",
       "      <td>20.895603</td>\n",
       "      <td>11.638996</td>\n",
       "      <td>1</td>\n",
       "    </tr>\n",
       "    <tr>\n",
       "      <th>3</th>\n",
       "      <td>22.242337</td>\n",
       "      <td>10.323360</td>\n",
       "      <td>1</td>\n",
       "    </tr>\n",
       "    <tr>\n",
       "      <th>4</th>\n",
       "      <td>38.854161</td>\n",
       "      <td>26.899764</td>\n",
       "      <td>0</td>\n",
       "    </tr>\n",
       "  </tbody>\n",
       "</table>\n",
       "</div>"
      ],
      "text/plain": [
       "   email_hours  gym_hours  data_scientist\n",
       "0    18.995746   6.879446               1\n",
       "1    19.178514   5.954391               1\n",
       "2    20.895603  11.638996               1\n",
       "3    22.242337  10.323360               1\n",
       "4    38.854161  26.899764               0"
      ]
     },
     "execution_count": 33,
     "metadata": {},
     "output_type": "execute_result"
    }
   ],
   "source": [
    "df.head()"
   ]
  },
  {
   "cell_type": "markdown",
   "metadata": {},
   "source": [
    "###Lots of columns? Quickly look at datatype:"
   ]
  },
  {
   "cell_type": "code",
   "execution_count": 17,
   "metadata": {
    "collapsed": false
   },
   "outputs": [
    {
     "data": {
      "text/plain": [
       "array([dtype('float64'), dtype('int64')], dtype=object)"
      ]
     },
     "execution_count": 17,
     "metadata": {},
     "output_type": "execute_result"
    }
   ],
   "source": [
    "#find out what datatypes I have \n",
    "df.dtypes.unique()"
   ]
  },
  {
   "cell_type": "code",
   "execution_count": 21,
   "metadata": {
    "collapsed": false
   },
   "outputs": [
    {
     "data": {
      "text/html": [
       "<div>\n",
       "<table border=\"1\" class=\"dataframe\">\n",
       "  <thead>\n",
       "    <tr style=\"text-align: right;\">\n",
       "      <th></th>\n",
       "      <th>data_scientist</th>\n",
       "    </tr>\n",
       "  </thead>\n",
       "  <tbody>\n",
       "    <tr>\n",
       "      <th>0</th>\n",
       "      <td>1</td>\n",
       "    </tr>\n",
       "    <tr>\n",
       "      <th>1</th>\n",
       "      <td>1</td>\n",
       "    </tr>\n",
       "    <tr>\n",
       "      <th>2</th>\n",
       "      <td>1</td>\n",
       "    </tr>\n",
       "    <tr>\n",
       "      <th>3</th>\n",
       "      <td>1</td>\n",
       "    </tr>\n",
       "    <tr>\n",
       "      <th>4</th>\n",
       "      <td>0</td>\n",
       "    </tr>\n",
       "  </tbody>\n",
       "</table>\n",
       "</div>"
      ],
      "text/plain": [
       "   data_scientist\n",
       "0               1\n",
       "1               1\n",
       "2               1\n",
       "3               1\n",
       "4               0"
      ]
     },
     "execution_count": 21,
     "metadata": {},
     "output_type": "execute_result"
    }
   ],
   "source": [
    "#look at what data is not continuous/float:\n",
    "df.select_dtypes(include=['int64']).head()"
   ]
  },
  {
   "cell_type": "code",
   "execution_count": 25,
   "metadata": {
    "collapsed": false
   },
   "outputs": [],
   "source": [
    "def examine_categorical_columns(df, datatype = 'int64'):\n",
    "    '''INPUT: takes a dataframe with suspected categorical variables\n",
    "    Prints out all the unique values for each column. \n",
    "    Useful to check how varied the column is'''\n",
    "    #get a list of the columns that are categorical variables \n",
    "    column_names = df.select_dtypes(include=[datatype]).columns.tolist()\n",
    "\n",
    "    #check to see if the column unique values make sense/ are categorical\n",
    "    for col in column_names:\n",
    "        print col, '\\n', df[col].unique(), '\\n'"
   ]
  },
  {
   "cell_type": "code",
   "execution_count": 24,
   "metadata": {
    "collapsed": false
   },
   "outputs": [
    {
     "name": "stdout",
     "output_type": "stream",
     "text": [
      "data_scientist \n",
      "[1 0] \n",
      "\n"
     ]
    }
   ],
   "source": [
    "examine_categorical_columns(df)"
   ]
  },
  {
   "cell_type": "code",
   "execution_count": null,
   "metadata": {
    "collapsed": true
   },
   "outputs": [],
   "source": [
    "#turn categorical columns into dummy variables for analysis\n",
    "def make_dummy_columns(df, column_names):\n",
    "    '''\n",
    "    PARAMETERS\n",
    "    df: a dataframe containing categorical variables\n",
    "    column_names: a list of the name of columns \n",
    "    in df with categorical variables\n",
    "    \n",
    "    OUTPUT:\n",
    "    For every column in column_names, creates dummy variables. \n",
    "    Returns a new dataframe with the dummy variables\n",
    "    '''\n",
    "    for colname in column_names:\n",
    "        df = pd.concat([df, pd.get_dummies(df[colname])],\\\n",
    "                       axis = 1).drop(colname, 1)\n",
    "    return df"
   ]
  },
  {
   "cell_type": "markdown",
   "metadata": {},
   "source": [
    "##Replace columns Nans with Means"
   ]
  },
  {
   "cell_type": "code",
   "execution_count": 26,
   "metadata": {
    "collapsed": true
   },
   "outputs": [],
   "source": [
    "#thanks, stack overflow!\n",
    "import  scipy.stats as stats\n",
    "\n",
    "def replace_nans_with_mean(df):\n",
    "    '''Takes a dataframe with Nan values.\n",
    "    Returns a numpy matrix where all the nans have been\n",
    "    replaced with the column average value.'''\n",
    "    matrix = df.values\n",
    "    #determine the mean for each column\n",
    "    col_mean = stats.nanmean(matrix,axis=0)\n",
    "    #obtain the indexes of values to replace\n",
    "    indexs = np.where(np.isnan(matrix))\n",
    "    matrix[indexs]=np.take(col_mean,indexs[1])\n",
    "    return matrix\n"
   ]
  },
  {
   "cell_type": "code",
   "execution_count": null,
   "metadata": {
    "collapsed": true
   },
   "outputs": [],
   "source": [
    "Are names correlated with the economy? \n",
    "Another idea: popular names in other countries. how is this realted to american popularity?"
   ]
  },
  {
   "cell_type": "markdown",
   "metadata": {},
   "source": [
    "##Plot with groupby!!!"
   ]
  },
  {
   "cell_type": "code",
   "execution_count": 42,
   "metadata": {
    "collapsed": false
   },
   "outputs": [],
   "source": [
    "def plot_groups(df, group_label, x_col, y_col):\n",
    "    '''PRAMETERS\n",
    "    grouplabel - column name to categorize each distinct group\n",
    "    x_col, y_col - column names of the x and y axis respectively'''\n",
    "    \n",
    "    groups = df.groupby(group_label)\n",
    "\n",
    "    # Plot\n",
    "    plt.rcParams.update(pd.tools.plotting.mpl_stylesheet)\n",
    "    colors = pd.tools.plotting._get_standard_colors(len(groups), color_type='random')\n",
    "\n",
    "    fig, ax = plt.subplots()\n",
    "    ax.set_color_cycle(colors)\n",
    "    ax.margins(0.05)\n",
    "    for name, group in groups:\n",
    "        ax.plot(group[x_col], group[y_col], marker='o', linestyle='', ms=10, label=name)\n",
    "    ax.legend(numpoints=1, loc='upper left')\n",
    "\n",
    "    plt.show()"
   ]
  },
  {
   "cell_type": "code",
   "execution_count": 43,
   "metadata": {
    "collapsed": false
   },
   "outputs": [
    {
     "data": {
      "image/png": "[encoded data removed]",
      "text/plain": [
       "<matplotlib.figure.Figure at 0x108bf5ad0>"
      ]
     },
     "metadata": {},
     "output_type": "display_data"
    }
   ],
   "source": [
    "plot_groups(df, 'data_scientist', 'email_hours', 'gym_hours')"
   ]
  },
  {
   "cell_type": "code",
   "execution_count": null,
   "metadata": {
    "collapsed": true
   },
   "outputs": [],
   "source": []
  }
 ],
 "metadata": {
  "kernelspec": {
   "display_name": "Python 2",
   "language": "python",
   "name": "python2"
  },
  "language_info": {
   "codemirror_mode": {
    "name": "ipython",
    "version": 2
   },
   "file_extension": ".py",
   "mimetype": "text/x-python",
   "name": "python",
   "nbconvert_exporter": "python",
   "pygments_lexer": "ipython2",
   "version": "2.7.10"
  }
 },
 "nbformat": 4,
 "nbformat_minor": 0
}
