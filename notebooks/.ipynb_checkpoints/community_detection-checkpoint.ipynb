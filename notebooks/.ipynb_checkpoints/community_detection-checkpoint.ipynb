{
 "cells": [
  {
   "cell_type": "markdown",
   "metadata": {},
   "source": [
    "#Community Detection\n",
    "\n",
    "#####PowerLaw:\n",
    " - The probability of a node being degree K = degree of node ^ gamma\n",
    " - the point is that it is more likley that a new node is connected to a highly central node than an outlier\n",
    " \n",
    "###Types of Graphs:\n",
    " - Undirected (all connections equal- like facebook)\n",
    " - Directed - connections can be one way- like twitter\n",
    " - Bipartite - may have mutliple edges from one node\n",
    " - Weighted - some edges may have more weight than others\n",
    " \n",
    "###Connected Components:\n",
    "A subgraph where any two certices are connected to eacother by an edge\n",
    " #####Strongly Connected Component:\n",
    " Subgraph where every node is reachable by another node\n",
    " \n",
    "###Data Structure\n",
    "Two main types\n",
    " - Adjacency Matrix\n",
    "     - take up more space if sparce but faster\n",
    " - Adjacenty List\n",
    "     - takes up less space, slower to look up \n",
    "     \n",
    "##Centrality\n",
    " - important node is connected to a large number of other nodes. \n",
    " - noramlize by dividing the total number of nodes - 1\n",
    " \n",
    " 1) Degree Centrality:\n",
    "     may not capture most 'important nodes' if between two networks\n",
    " \n",
    " 2) Betweenness Cenrality:\n",
    "     an important node controls the passage from one node to another\n",
    " \n",
    " 3) Eigenvector Centrality:\n",
    "      important nodes\n",
    "          - have important neighbors\n",
    "          - are connected to nodes with high degrees\n",
    "          - may not have a high degree themselves\n",
    "       \n",
    "###Graph Traversal:\n",
    " - in order to perform graph related operations, must systematically visit AL Lthe notes\n",
    " - MOST POPULAR: BREATH FIRST SEARCH\n",
    " \n",
    " ```\n",
    " Visit all the neighbors of a node\n",
    " Then vist all the neighbors of the neighbors\n",
    " Then find the shortest Path\n",
    " ```"
   ]
  },
  {
   "cell_type": "markdown",
   "metadata": {},
   "source": [
    "#Libraries of Interest\n",
    " - networkx\n",
    "    - https://networkx.github.io/\n",
    "        - good for small graphs (10,000 nodes)\n",
    "        - too slow for big graphs\n",
    " - igraph\n",
    "    - http://igraph.org/python/doc/igraph.clutering-module.html\n",
    " - graph-tool \n",
    "     - https://graph-tool.skdwed.de/static/doc/community.html\n",
    "         - will take 1/2 hour to install\n",
    "         \n",
    "- Visualization:\n",
    "    - Gephi \n",
    "        - http://gephi.github.io\n",
    "    - Neo4j (Dababase)\n",
    "        - http://console.neo4j.org"
   ]
  },
  {
   "cell_type": "markdown",
   "metadata": {},
   "source": [
    "#How to Detect a Community?\n",
    "##.Measure Qualtiy of a community\n",
    "###1. Modularity\n",
    " - equals the density of edges within a subgraph - the baseline edge density of the same subgraph randomized \n",
    " - High Modularity: A 'better' community\n",
    "###2. Node Similarity\n",
    " - the number of neighbors 2 nodes share\n",
    " - a lot of shared neighbors means high similarity \n",
    " - normally measure similarity with \n",
    "     - Cosine Similairty\n",
    "     - Euclidian Distance\n",
    "     \n",
    "##Divide a Graph into Communities\n",
    "### 1. Girvan and Newman (Divisive Algorithm)\n",
    "    - Compute the betweeness for all edges\n",
    "    - remove the edge with the largest betweenness\n",
    "    - recalculate betweeness \n",
    "    - calculate modularity if new commuities are formed\n",
    "    - stop if average modularity is maximized\n",
    "    - otherwise go back to step 2 \n",
    "###2. Hierarchical Clustering (Agglomerative Algorithm)\n",
    "    - start with every node as a community\n",
    "    - merge based on max similarity / min distance between elements of the 2 clusters\n",
    "    - have to decide a cut off\n",
    "    - hierarchy is by construction, so it's not always sensible\n",
    "    - best for network sthat are heiarchical"
   ]
  },
  {
   "cell_type": "code",
   "execution_count": null,
   "metadata": {
    "collapsed": true
   },
   "outputs": [],
   "source": []
  }
 ],
 "metadata": {
  "kernelspec": {
   "display_name": "Python 2",
   "language": "python",
   "name": "python2"
  },
  "language_info": {
   "codemirror_mode": {
    "name": "ipython",
    "version": 2
   },
   "file_extension": ".py",
   "mimetype": "text/x-python",
   "name": "python",
   "nbconvert_exporter": "python",
   "pygments_lexer": "ipython2",
   "version": "2.7.10"
  }
 },
 "nbformat": 4,
 "nbformat_minor": 0
}
