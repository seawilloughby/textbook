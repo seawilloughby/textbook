{
 "cells": [
  {
   "cell_type": "markdown",
   "metadata": {},
   "source": [
    "#PCA\n",
    "To get introduced to PCA and gain some intuition behind it, we will be applying dimensionality reduction to images. \n",
    "The principal component projections are defined such that each tries to capture as much variance of the original dataset (the first capturing the most, the second captures the next most variance, and so forth).\n",
    "\n",
    "***See Bottom For More Background***\n",
    "\n",
    "#####Example 1: Simple Feature Detection\n",
    "We will be performing a similar analysis on the classic MNIST dataset of handwritten digits.\n",
    "\n",
    "The MNIST dataset has digits stored as 28×28 pixel images. This means there are 784 features. We can use PCA to reduce the dimensions\n",
    "\n",
    "#####Example 2: Regression\n",
    "PCA can be used to get rid of redundant features. It removes the issue of multicollinearity among the feature space, and can be used to regress the dependent variable."
   ]
  },
  {
   "cell_type": "markdown",
   "metadata": {},
   "source": [
    "###Example 1: Handwritten Letters\n",
    "#####1. Get the Dataset"
   ]
  },
  {
   "cell_type": "code",
   "execution_count": null,
   "metadata": {
    "collapsed": false
   },
   "outputs": [],
   "source": [
    "from sklearn import (cluster, datasets, decomposition, ensemble, lda, manifold, random_projection, preprocessing)\n",
    "import numpy as np\n",
    "import matplotlib.pyplot as plt\n",
    "import pandas as pd\n",
    "\n",
    "#Top is the first six digits\n",
    "digits = datasets.load_digits(n_class=6)\n",
    "#this is all the digits they have\n",
    "all_digits = datasets.load_digits()\n",
    "%pylab inline"
   ]
  },
  {
   "cell_type": "markdown",
   "metadata": {},
   "source": [
    "#####2. Look at the images:"
   ]
  },
  {
   "cell_type": "code",
   "execution_count": null,
   "metadata": {
    "collapsed": false
   },
   "outputs": [],
   "source": [
    "def show_images(digits, n=2):\n",
    "    import pylab as pl\n",
    "    pl.gray()\n",
    "    fig = pl.figure(figsize=(n,n))\n",
    "    for i in xrange(n):\n",
    "        for j in xrange(n):\n",
    "            pl.subplot(n, n, n * j + i + 1)\n",
    "           pl.imshow(digits.images(digits.images[n * j + i]) \n",
    "            pl.xticks([])\n",
    "            pl.yticks([])\n",
    "            pl.axis('off')\n",
    "    pl.show()\n",
    "show_images(all_digits, 10)\n"
   ]
  },
  {
   "cell_type": "markdown",
   "metadata": {},
   "source": [
    "#####3. SCALE the data! "
   ]
  },
  {
   "cell_type": "code",
   "execution_count": 49,
   "metadata": {
    "collapsed": false
   },
   "outputs": [],
   "source": [
    "X_centered = preprocessing.scale(digits.data)"
   ]
  },
  {
   "cell_type": "markdown",
   "metadata": {},
   "source": [
    "#####4. Transform the Data with PCA"
   ]
  },
  {
   "cell_type": "code",
   "execution_count": 50,
   "metadata": {
    "collapsed": false
   },
   "outputs": [],
   "source": [
    "pca = decomposition.PCA(n_components=10)\n",
    "X_pca = pca.fit_transform(X_centered)"
   ]
  },
  {
   "cell_type": "code",
   "execution_count": 1,
   "metadata": {
    "collapsed": false
   },
   "outputs": [
    {
     "ename": "NameError",
     "evalue": "name 'pl' is not defined",
     "output_type": "error",
     "traceback": [
      "\u001b[0;31m---------------------------------------------------------------------------\u001b[0m",
      "\u001b[0;31mNameError\u001b[0m                                 Traceback (most recent call last)",
      "\u001b[0;32m<ipython-input-1-e7cb81a783a4>\u001b[0m in \u001b[0;36m<module>\u001b[0;34m()\u001b[0m\n\u001b[0;32m----> 1\u001b[0;31m \u001b[0mpl\u001b[0m\u001b[0;34m.\u001b[0m\u001b[0mimshow\u001b[0m\u001b[0;34m(\u001b[0m\u001b[0mX_pca\u001b[0m\u001b[0;34m)\u001b[0m\u001b[0;34m\u001b[0m\u001b[0m\n\u001b[0m",
      "\u001b[0;31mNameError\u001b[0m: name 'pl' is not defined"
     ]
    }
   ],
   "source": [
    "pl.imshow(X_pca)"
   ]
  },
  {
   "cell_type": "markdown",
   "metadata": {},
   "source": [
    "#####5. Use a Scree Plot to determine the ideal number of components. \n",
    "Similar to kmeans clustering to pick an appropriate value of k, here we need to pick an appropriate number of components to keep. \n",
    "Due to the loss of information in projecting data into lower dimensional space, our transformation is never perfect. One way we can determine how well it worked is to plot the amount of explained variance.\n",
    "Looking at the plot of explained variance, we are interested in finding the 'elbow', the fewest principle components that explain the most variance. \n",
    "\n",
    "What is the optimal number of components to keep for the digits dataset?"
   ]
  },
  {
   "cell_type": "code",
   "execution_count": 51,
   "metadata": {
    "collapsed": true
   },
   "outputs": [],
   "source": [
    "def scree_plot(num_components, pca):\n",
    "    ind = np.arange(num_components)\n",
    "    vals = pca.explained_variance_ratio_\n",
    "    plt.figure(figsize=(10, 6), dpi=250)\n",
    "    ax = plt.subplot(111)\n",
    "    ax.bar(ind, vals, 0.35, \n",
    "           color=[(0.949, 0.718, 0.004),\n",
    "                  (0.898, 0.49, 0.016),\n",
    "                  (0.863, 0, 0.188),\n",
    "                  (0.694, 0, 0.345),\n",
    "                  (0.486, 0.216, 0.541),\n",
    "                  (0.204, 0.396, 0.667),\n",
    "                  (0.035, 0.635, 0.459),\n",
    "                  (0.486, 0.722, 0.329),\n",
    "                 ])\n",
    "    for i in xrange(num_components):\n",
    "        ax.annotate(r\"%s%%\" % ((str(vals[i]*100)[:4])), (ind[i]+0.2, vals[i]), va=\"bottom\", ha=\"center\", fontsize=12)\n",
    "\n",
    "    ax.set_xticklabels(ind, \n",
    "                       fontsize=12)\n",
    "\n",
    "    ax.set_ylim(0, max(vals)+0.05)\n",
    "    ax.set_xlim(0-0.45, 8+0.45)\n",
    "\n",
    "    ax.xaxis.set_tick_params(width=0)\n",
    "    ax.yaxis.set_tick_params(width=2, length=12)\n",
    "\n",
    "    ax.set_xlabel(\"Principal Component\", fontsize=12)\n",
    "    ax.set_ylabel(\"Variance Explained (%)\", fontsize=12)\n",
    "\n",
    "    plt.title(\"Scree Plot for the Digits Dataset\", fontsize=16)\n",
    "    plt.savefig(\"scree.png\", dpi= 100)\n",
    "X_centered = preprocessing.scale(digits.data)"
   ]
  },
  {
   "cell_type": "code",
   "execution_count": 69,
   "metadata": {
    "collapsed": false
   },
   "outputs": [
    {
     "data": {
      "image/png": "[encoded data removed]",
      "text/plain": [
       "<matplotlib.figure.Figure at 0x10820e950>"
      ]
     },
     "metadata": {},
     "output_type": "display_data"
    }
   ],
   "source": [
    "scree_plot(10, pca)\n",
    "\n",
    "#The variance is called - eigenvalues, also called loadings"
   ]
  },
  {
   "cell_type": "markdown",
   "metadata": {},
   "source": [
    "#####6. Alterative Way to Plot 2-D:\n",
    "Another way to visualize our digits is to force a projection into 2-dimensional space in order to visualize the data on a 2-dimensional plane. The code snippet below will plot our digits projected into 2-dimensions on x-y axis."
   ]
  },
  {
   "cell_type": "code",
   "execution_count": 7,
   "metadata": {
    "collapsed": true
   },
   "outputs": [],
   "source": [
    "def plot_embedding(X, y, title=None):\n",
    "    x_min, x_max = np.min(X, 0), np.max(X, 0)\n",
    "    X = (X - x_min) / (x_max - x_min)\n",
    "    plt.figure(figsize=(10, 6), dpi=250)\n",
    "    ax = plt.subplot(111)\n",
    "    ax.axis('off')\n",
    "    ax.patch.set_visible(False)\n",
    "    for i in range(X.shape[0]):\n",
    "        plt.text(X[i, 0], X[i, 1], str(y[i]), color=plt.cm.Set1(y[i] / 10.), fontdict={'weight': 'bold', 'size': 12})\n",
    "\n",
    "    plt.xticks([]), plt.yticks([])\n",
    "    plt.ylim([-0.1,1.1])\n",
    "    plt.xlim([-0.1,1.1])\n",
    "\n",
    "    if title is not None:\n",
    "        plt.title(title, fontsize=16)"
   ]
  },
  {
   "cell_type": "code",
   "execution_count": 36,
   "metadata": {
    "collapsed": false
   },
   "outputs": [
    {
     "data": {
      "image/png": "[encoded data removed]",
      "text/plain": [
       "<matplotlib.figure.Figure at 0x10c75e990>"
      ]
     },
     "metadata": {},
     "output_type": "display_data"
    }
   ],
   "source": [
    "pca = decomposition.PCA(n_components=2)\n",
    "X_pca = pca.fit_transform(X_centered)\n",
    "plot_embedding(X_pca, digits.target)"
   ]
  },
  {
   "cell_type": "markdown",
   "metadata": {},
   "source": [
    "###Example 2: Regression"
   ]
  },
  {
   "cell_type": "markdown",
   "metadata": {},
   "source": [
    "For this example, I will look at a car dataset, to regress mpg. \n",
    "\n",
    "Predict: mpg\n",
    "Features: everything else"
   ]
  },
  {
   "cell_type": "markdown",
   "metadata": {},
   "source": [
    "1. #### Simple cleaning of data first..."
   ]
  },
  {
   "cell_type": "code",
   "execution_count": 56,
   "metadata": {
    "collapsed": false
   },
   "outputs": [],
   "source": [
    "cars = pd.read_table('data/cars.tsv', header=None)\n",
    "#Expand the first column containing an array of numbers to a new list with pandas' built-in functions with the command\n",
    "new_df = pd.concat([pd.DataFrame(cars.iloc[:,0].str.split().tolist()), \n",
    "                    pd.DataFrame(cars.iloc[:,1])], axis=1, ignore_index=True)\n",
    "#Clean the data a little bit by removing any problematic rows or columns that are not numeric and only keep the first 8 columns.\n",
    "car_df = new_df[new_df[3] != '?'].iloc[:,:8]\n",
    "#Assign column names to your new data frame\n",
    "car_df.columns = ['mpg', 'cylinders','displacement','horsepower','weight','acceleration','model_year', 'origin']\n",
    "#Convert the numeric values to numeric datatype\n",
    "float_df = car_df.convert_objects(convert_numeric=True)\n",
    "#Split off mpg to use as the target variable with the other variables as features to predict mpg. Also, 'origin' is categorical, so either split off from feature dataframe or create dummy variables."
   ]
  },
  {
   "cell_type": "code",
   "execution_count": 57,
   "metadata": {
    "collapsed": false
   },
   "outputs": [
    {
     "data": {
      "text/html": [
       "<div style=\"max-height:1000px;max-width:1500px;overflow:auto;\">\n",
       "<table border=\"1\" class=\"dataframe\">\n",
       "  <thead>\n",
       "    <tr style=\"text-align: right;\">\n",
       "      <th></th>\n",
       "      <th>mpg</th>\n",
       "      <th>cylinders</th>\n",
       "      <th>displacement</th>\n",
       "      <th>horsepower</th>\n",
       "      <th>weight</th>\n",
       "      <th>acceleration</th>\n",
       "      <th>model_year</th>\n",
       "      <th>origin</th>\n",
       "    </tr>\n",
       "  </thead>\n",
       "  <tbody>\n",
       "    <tr>\n",
       "      <th>0</th>\n",
       "      <td>18</td>\n",
       "      <td>8</td>\n",
       "      <td>307</td>\n",
       "      <td>130</td>\n",
       "      <td>3504</td>\n",
       "      <td>12.0</td>\n",
       "      <td>70</td>\n",
       "      <td>1</td>\n",
       "    </tr>\n",
       "    <tr>\n",
       "      <th>1</th>\n",
       "      <td>15</td>\n",
       "      <td>8</td>\n",
       "      <td>350</td>\n",
       "      <td>165</td>\n",
       "      <td>3693</td>\n",
       "      <td>11.5</td>\n",
       "      <td>70</td>\n",
       "      <td>1</td>\n",
       "    </tr>\n",
       "    <tr>\n",
       "      <th>2</th>\n",
       "      <td>18</td>\n",
       "      <td>8</td>\n",
       "      <td>318</td>\n",
       "      <td>150</td>\n",
       "      <td>3436</td>\n",
       "      <td>11.0</td>\n",
       "      <td>70</td>\n",
       "      <td>1</td>\n",
       "    </tr>\n",
       "    <tr>\n",
       "      <th>3</th>\n",
       "      <td>16</td>\n",
       "      <td>8</td>\n",
       "      <td>304</td>\n",
       "      <td>150</td>\n",
       "      <td>3433</td>\n",
       "      <td>12.0</td>\n",
       "      <td>70</td>\n",
       "      <td>1</td>\n",
       "    </tr>\n",
       "    <tr>\n",
       "      <th>4</th>\n",
       "      <td>17</td>\n",
       "      <td>8</td>\n",
       "      <td>302</td>\n",
       "      <td>140</td>\n",
       "      <td>3449</td>\n",
       "      <td>10.5</td>\n",
       "      <td>70</td>\n",
       "      <td>1</td>\n",
       "    </tr>\n",
       "  </tbody>\n",
       "</table>\n",
       "</div>"
      ],
      "text/plain": [
       "   mpg  cylinders  displacement  horsepower  weight  acceleration  model_year  \\\n",
       "0   18          8           307         130    3504          12.0          70   \n",
       "1   15          8           350         165    3693          11.5          70   \n",
       "2   18          8           318         150    3436          11.0          70   \n",
       "3   16          8           304         150    3433          12.0          70   \n",
       "4   17          8           302         140    3449          10.5          70   \n",
       "\n",
       "   origin  \n",
       "0       1  \n",
       "1       1  \n",
       "2       1  \n",
       "3       1  \n",
       "4       1  "
      ]
     },
     "execution_count": 57,
     "metadata": {},
     "output_type": "execute_result"
    }
   ],
   "source": [
    "float_df.head()"
   ]
  },
  {
   "cell_type": "markdown",
   "metadata": {},
   "source": [
    "#####2. Set the x and y for the regression"
   ]
  },
  {
   "cell_type": "code",
   "execution_count": 76,
   "metadata": {
    "collapsed": true
   },
   "outputs": [],
   "source": [
    "multi_regress = float_df.copy()\n",
    "\n",
    "y = multi_regress.pop('mpg')\n",
    "y = y.reset_index(drop=True)"
   ]
  },
  {
   "cell_type": "markdown",
   "metadata": {},
   "source": [
    "#####3. Compute the new matrix with reduced features by PCA"
   ]
  },
  {
   "cell_type": "code",
   "execution_count": 77,
   "metadata": {
    "collapsed": true
   },
   "outputs": [],
   "source": [
    "import statsmodels.api as sm\n",
    "\n",
    "pca = decomposition.PCA(n_components=4)\n",
    "X_pca = pca.fit_transform(preprocessing.scale(multi_regress.as_matrix()))"
   ]
  },
  {
   "cell_type": "markdown",
   "metadata": {},
   "source": [
    "#####4. Run the Regression"
   ]
  },
  {
   "cell_type": "code",
   "execution_count": 78,
   "metadata": {
    "collapsed": false
   },
   "outputs": [
    {
     "data": {
      "text/html": [
       "<table class=\"simpletable\">\n",
       "<caption>OLS Regression Results</caption>\n",
       "<tr>\n",
       "  <th>Dep. Variable:</th>           <td>mpg</td>       <th>  R-squared:         </th> <td>   0.793</td> \n",
       "</tr>\n",
       "<tr>\n",
       "  <th>Model:</th>                   <td>OLS</td>       <th>  Adj. R-squared:    </th> <td>   0.791</td> \n",
       "</tr>\n",
       "<tr>\n",
       "  <th>Method:</th>             <td>Least Squares</td>  <th>  F-statistic:       </th> <td>   370.7</td> \n",
       "</tr>\n",
       "<tr>\n",
       "  <th>Date:</th>             <td>Fri, 17 Jul 2015</td> <th>  Prob (F-statistic):</th> <td>6.46e-131</td>\n",
       "</tr>\n",
       "<tr>\n",
       "  <th>Time:</th>                 <td>13:21:17</td>     <th>  Log-Likelihood:    </th> <td> -1052.4</td> \n",
       "</tr>\n",
       "<tr>\n",
       "  <th>No. Observations:</th>      <td>   392</td>      <th>  AIC:               </th> <td>   2115.</td> \n",
       "</tr>\n",
       "<tr>\n",
       "  <th>Df Residuals:</th>          <td>   387</td>      <th>  BIC:               </th> <td>   2135.</td> \n",
       "</tr>\n",
       "<tr>\n",
       "  <th>Df Model:</th>              <td>     4</td>      <th>                     </th>     <td> </td>    \n",
       "</tr>\n",
       "<tr>\n",
       "  <th>Covariance Type:</th>      <td>nonrobust</td>    <th>                     </th>     <td> </td>    \n",
       "</tr>\n",
       "</table>\n",
       "<table class=\"simpletable\">\n",
       "<tr>\n",
       "    <td></td>       <th>coef</th>     <th>std err</th>      <th>t</th>      <th>P>|t|</th> <th>[95.0% Conf. Int.]</th> \n",
       "</tr>\n",
       "<tr>\n",
       "  <th>const</th> <td>   23.4459</td> <td>    0.180</td> <td>  130.067</td> <td> 0.000</td> <td>   23.092    23.800</td>\n",
       "</tr>\n",
       "<tr>\n",
       "  <th>0</th>     <td>    3.0859</td> <td>    0.084</td> <td>   36.764</td> <td> 0.000</td> <td>    2.921     3.251</td>\n",
       "</tr>\n",
       "<tr>\n",
       "  <th>1</th>     <td>    0.3901</td> <td>    0.186</td> <td>    2.098</td> <td> 0.037</td> <td>    0.025     0.756</td>\n",
       "</tr>\n",
       "<tr>\n",
       "  <th>2</th>     <td>   -2.2701</td> <td>    0.209</td> <td>  -10.864</td> <td> 0.000</td> <td>   -2.681    -1.859</td>\n",
       "</tr>\n",
       "<tr>\n",
       "  <th>3</th>     <td>   -0.7774</td> <td>    0.260</td> <td>   -2.992</td> <td> 0.003</td> <td>   -1.288    -0.267</td>\n",
       "</tr>\n",
       "</table>\n",
       "<table class=\"simpletable\">\n",
       "<tr>\n",
       "  <th>Omnibus:</th>       <td>43.160</td> <th>  Durbin-Watson:     </th> <td>   1.279</td>\n",
       "</tr>\n",
       "<tr>\n",
       "  <th>Prob(Omnibus):</th> <td> 0.000</td> <th>  Jarque-Bera (JB):  </th> <td>  91.123</td>\n",
       "</tr>\n",
       "<tr>\n",
       "  <th>Skew:</th>          <td> 0.601</td> <th>  Prob(JB):          </th> <td>1.63e-20</td>\n",
       "</tr>\n",
       "<tr>\n",
       "  <th>Kurtosis:</th>      <td> 5.034</td> <th>  Cond. No.          </th> <td>    3.10</td>\n",
       "</tr>\n",
       "</table>"
      ],
      "text/plain": [
       "<class 'statsmodels.iolib.summary.Summary'>\n",
       "\"\"\"\n",
       "                            OLS Regression Results                            \n",
       "==============================================================================\n",
       "Dep. Variable:                    mpg   R-squared:                       0.793\n",
       "Model:                            OLS   Adj. R-squared:                  0.791\n",
       "Method:                 Least Squares   F-statistic:                     370.7\n",
       "Date:                Fri, 17 Jul 2015   Prob (F-statistic):          6.46e-131\n",
       "Time:                        13:21:17   Log-Likelihood:                -1052.4\n",
       "No. Observations:                 392   AIC:                             2115.\n",
       "Df Residuals:                     387   BIC:                             2135.\n",
       "Df Model:                           4                                         \n",
       "Covariance Type:            nonrobust                                         \n",
       "==============================================================================\n",
       "                 coef    std err          t      P>|t|      [95.0% Conf. Int.]\n",
       "------------------------------------------------------------------------------\n",
       "const         23.4459      0.180    130.067      0.000        23.092    23.800\n",
       "0              3.0859      0.084     36.764      0.000         2.921     3.251\n",
       "1              0.3901      0.186      2.098      0.037         0.025     0.756\n",
       "2             -2.2701      0.209    -10.864      0.000        -2.681    -1.859\n",
       "3             -0.7774      0.260     -2.992      0.003        -1.288    -0.267\n",
       "==============================================================================\n",
       "Omnibus:                       43.160   Durbin-Watson:                   1.279\n",
       "Prob(Omnibus):                  0.000   Jarque-Bera (JB):               91.123\n",
       "Skew:                           0.601   Prob(JB):                     1.63e-20\n",
       "Kurtosis:                       5.034   Cond. No.                         3.10\n",
       "==============================================================================\n",
       "\n",
       "Warnings:\n",
       "[1] Standard Errors assume that the covariance matrix of the errors is correctly specified.\n",
       "\"\"\""
      ]
     },
     "execution_count": 78,
     "metadata": {},
     "output_type": "execute_result"
    }
   ],
   "source": [
    "features = pd.DataFrame(X_pca)\n",
    "\n",
    "X = sm.add_constant(features)\n",
    "X  =X.reset_index(drop=True)\n",
    "\n",
    "est = sm.OLS(y, X).fit()\n",
    "est.summary()"
   ]
  },
  {
   "cell_type": "markdown",
   "metadata": {},
   "source": [
    "#####5. Compare with Regressing with All the Features:"
   ]
  },
  {
   "cell_type": "code",
   "execution_count": 66,
   "metadata": {
    "collapsed": false
   },
   "outputs": [
    {
     "data": {
      "text/html": [
       "<table class=\"simpletable\">\n",
       "<caption>OLS Regression Results</caption>\n",
       "<tr>\n",
       "  <th>Dep. Variable:</th>           <td>mpg</td>       <th>  R-squared:         </th> <td>   0.821</td> \n",
       "</tr>\n",
       "<tr>\n",
       "  <th>Model:</th>                   <td>OLS</td>       <th>  Adj. R-squared:    </th> <td>   0.818</td> \n",
       "</tr>\n",
       "<tr>\n",
       "  <th>Method:</th>             <td>Least Squares</td>  <th>  F-statistic:       </th> <td>   252.4</td> \n",
       "</tr>\n",
       "<tr>\n",
       "  <th>Date:</th>             <td>Fri, 17 Jul 2015</td> <th>  Prob (F-statistic):</th> <td>2.04e-139</td>\n",
       "</tr>\n",
       "<tr>\n",
       "  <th>Time:</th>                 <td>10:18:27</td>     <th>  Log-Likelihood:    </th> <td> -1023.5</td> \n",
       "</tr>\n",
       "<tr>\n",
       "  <th>No. Observations:</th>      <td>   392</td>      <th>  AIC:               </th> <td>   2063.</td> \n",
       "</tr>\n",
       "<tr>\n",
       "  <th>Df Residuals:</th>          <td>   384</td>      <th>  BIC:               </th> <td>   2095.</td> \n",
       "</tr>\n",
       "<tr>\n",
       "  <th>Df Model:</th>              <td>     7</td>      <th>                     </th>     <td> </td>    \n",
       "</tr>\n",
       "<tr>\n",
       "  <th>Covariance Type:</th>      <td>nonrobust</td>    <th>                     </th>     <td> </td>    \n",
       "</tr>\n",
       "</table>\n",
       "<table class=\"simpletable\">\n",
       "<tr>\n",
       "        <td></td>          <th>coef</th>     <th>std err</th>      <th>t</th>      <th>P>|t|</th> <th>[95.0% Conf. Int.]</th> \n",
       "</tr>\n",
       "<tr>\n",
       "  <th>const</th>        <td>  -17.2184</td> <td>    4.644</td> <td>   -3.707</td> <td> 0.000</td> <td>  -26.350    -8.087</td>\n",
       "</tr>\n",
       "<tr>\n",
       "  <th>cylinders</th>    <td>   -0.4934</td> <td>    0.323</td> <td>   -1.526</td> <td> 0.128</td> <td>   -1.129     0.142</td>\n",
       "</tr>\n",
       "<tr>\n",
       "  <th>displacement</th> <td>    0.0199</td> <td>    0.008</td> <td>    2.647</td> <td> 0.008</td> <td>    0.005     0.035</td>\n",
       "</tr>\n",
       "<tr>\n",
       "  <th>horsepower</th>   <td>   -0.0170</td> <td>    0.014</td> <td>   -1.230</td> <td> 0.220</td> <td>   -0.044     0.010</td>\n",
       "</tr>\n",
       "<tr>\n",
       "  <th>weight</th>       <td>   -0.0065</td> <td>    0.001</td> <td>   -9.929</td> <td> 0.000</td> <td>   -0.008    -0.005</td>\n",
       "</tr>\n",
       "<tr>\n",
       "  <th>acceleration</th> <td>    0.0806</td> <td>    0.099</td> <td>    0.815</td> <td> 0.415</td> <td>   -0.114     0.275</td>\n",
       "</tr>\n",
       "<tr>\n",
       "  <th>model_year</th>   <td>    0.7508</td> <td>    0.051</td> <td>   14.729</td> <td> 0.000</td> <td>    0.651     0.851</td>\n",
       "</tr>\n",
       "<tr>\n",
       "  <th>origin</th>       <td>    1.4261</td> <td>    0.278</td> <td>    5.127</td> <td> 0.000</td> <td>    0.879     1.973</td>\n",
       "</tr>\n",
       "</table>\n",
       "<table class=\"simpletable\">\n",
       "<tr>\n",
       "  <th>Omnibus:</th>       <td>31.906</td> <th>  Durbin-Watson:     </th> <td>   1.309</td>\n",
       "</tr>\n",
       "<tr>\n",
       "  <th>Prob(Omnibus):</th> <td> 0.000</td> <th>  Jarque-Bera (JB):  </th> <td>  53.100</td>\n",
       "</tr>\n",
       "<tr>\n",
       "  <th>Skew:</th>          <td> 0.529</td> <th>  Prob(JB):          </th> <td>2.95e-12</td>\n",
       "</tr>\n",
       "<tr>\n",
       "  <th>Kurtosis:</th>      <td> 4.460</td> <th>  Cond. No.          </th> <td>8.59e+04</td>\n",
       "</tr>\n",
       "</table>"
      ],
      "text/plain": [
       "<class 'statsmodels.iolib.summary.Summary'>\n",
       "\"\"\"\n",
       "                            OLS Regression Results                            \n",
       "==============================================================================\n",
       "Dep. Variable:                    mpg   R-squared:                       0.821\n",
       "Model:                            OLS   Adj. R-squared:                  0.818\n",
       "Method:                 Least Squares   F-statistic:                     252.4\n",
       "Date:                Fri, 17 Jul 2015   Prob (F-statistic):          2.04e-139\n",
       "Time:                        10:18:27   Log-Likelihood:                -1023.5\n",
       "No. Observations:                 392   AIC:                             2063.\n",
       "Df Residuals:                     384   BIC:                             2095.\n",
       "Df Model:                           7                                         \n",
       "Covariance Type:            nonrobust                                         \n",
       "================================================================================\n",
       "                   coef    std err          t      P>|t|      [95.0% Conf. Int.]\n",
       "--------------------------------------------------------------------------------\n",
       "const          -17.2184      4.644     -3.707      0.000       -26.350    -8.087\n",
       "cylinders       -0.4934      0.323     -1.526      0.128        -1.129     0.142\n",
       "displacement     0.0199      0.008      2.647      0.008         0.005     0.035\n",
       "horsepower      -0.0170      0.014     -1.230      0.220        -0.044     0.010\n",
       "weight          -0.0065      0.001     -9.929      0.000        -0.008    -0.005\n",
       "acceleration     0.0806      0.099      0.815      0.415        -0.114     0.275\n",
       "model_year       0.7508      0.051     14.729      0.000         0.651     0.851\n",
       "origin           1.4261      0.278      5.127      0.000         0.879     1.973\n",
       "==============================================================================\n",
       "Omnibus:                       31.906   Durbin-Watson:                   1.309\n",
       "Prob(Omnibus):                  0.000   Jarque-Bera (JB):               53.100\n",
       "Skew:                           0.529   Prob(JB):                     2.95e-12\n",
       "Kurtosis:                       4.460   Cond. No.                     8.59e+04\n",
       "==============================================================================\n",
       "\n",
       "Warnings:\n",
       "[1] Standard Errors assume that the covariance matrix of the errors is correctly specified.\n",
       "[2] The condition number is large, 8.59e+04. This might indicate that there are\n",
       "strong multicollinearity or other numerical problems.\n",
       "\"\"\""
      ]
     },
     "execution_count": 66,
     "metadata": {},
     "output_type": "execute_result"
    }
   ],
   "source": [
    "import statsmodels.regression.linear_model as sml\n",
    "\n",
    "multi_regress = float_df.copy()\n",
    "\n",
    "y = multi_regress.pop('mpg')\n",
    "features = multi_regress\n",
    "\n",
    "X = sml.add_constant(features)\n",
    "est = sml.OLS(y, X).fit()\n",
    "\n",
    "est.summary()"
   ]
  },
  {
   "cell_type": "code",
   "execution_count": 79,
   "metadata": {
    "collapsed": false
   },
   "outputs": [
    {
     "data": {
      "text/html": [
       "<table class=\"simpletable\">\n",
       "<caption>OLS Regression Results</caption>\n",
       "<tr>\n",
       "  <th>Dep. Variable:</th>           <td>mpg</td>       <th>  R-squared:         </th> <td>   0.874</td> \n",
       "</tr>\n",
       "<tr>\n",
       "  <th>Model:</th>                   <td>OLS</td>       <th>  Adj. R-squared:    </th> <td>   0.867</td> \n",
       "</tr>\n",
       "<tr>\n",
       "  <th>Method:</th>             <td>Least Squares</td>  <th>  F-statistic:       </th> <td>   116.8</td> \n",
       "</tr>\n",
       "<tr>\n",
       "  <th>Date:</th>             <td>Fri, 17 Jul 2015</td> <th>  Prob (F-statistic):</th> <td>2.64e-151</td>\n",
       "</tr>\n",
       "<tr>\n",
       "  <th>Time:</th>                 <td>13:22:01</td>     <th>  Log-Likelihood:    </th> <td> -954.59</td> \n",
       "</tr>\n",
       "<tr>\n",
       "  <th>No. Observations:</th>      <td>   392</td>      <th>  AIC:               </th> <td>   1955.</td> \n",
       "</tr>\n",
       "<tr>\n",
       "  <th>Df Residuals:</th>          <td>   369</td>      <th>  BIC:               </th> <td>   2047.</td> \n",
       "</tr>\n",
       "<tr>\n",
       "  <th>Df Model:</th>              <td>    22</td>      <th>                     </th>     <td> </td>    \n",
       "</tr>\n",
       "<tr>\n",
       "  <th>Covariance Type:</th>      <td>nonrobust</td>    <th>                     </th>     <td> </td>    \n",
       "</tr>\n",
       "</table>\n",
       "<table class=\"simpletable\">\n",
       "<tr>\n",
       "           <td></td>              <th>coef</th>     <th>std err</th>      <th>t</th>      <th>P>|t|</th> <th>[95.0% Conf. Int.]</th> \n",
       "</tr>\n",
       "<tr>\n",
       "  <th>Intercept</th>           <td>   30.9168</td> <td>    2.361</td> <td>   13.095</td> <td> 0.000</td> <td>   26.274    35.559</td>\n",
       "</tr>\n",
       "<tr>\n",
       "  <th>C(cylinders)[T.4]</th>   <td>    6.9399</td> <td>    1.537</td> <td>    4.516</td> <td> 0.000</td> <td>    3.918     9.962</td>\n",
       "</tr>\n",
       "<tr>\n",
       "  <th>C(cylinders)[T.5]</th>   <td>    6.6377</td> <td>    2.337</td> <td>    2.840</td> <td> 0.005</td> <td>    2.042    11.234</td>\n",
       "</tr>\n",
       "<tr>\n",
       "  <th>C(cylinders)[T.6]</th>   <td>    4.2973</td> <td>    1.706</td> <td>    2.519</td> <td> 0.012</td> <td>    0.943     7.652</td>\n",
       "</tr>\n",
       "<tr>\n",
       "  <th>C(cylinders)[T.8]</th>   <td>    6.3668</td> <td>    1.969</td> <td>    3.234</td> <td> 0.001</td> <td>    2.495    10.238</td>\n",
       "</tr>\n",
       "<tr>\n",
       "  <th>C(model_year)[T.71]</th> <td>    0.9104</td> <td>    0.816</td> <td>    1.116</td> <td> 0.265</td> <td>   -0.693     2.514</td>\n",
       "</tr>\n",
       "<tr>\n",
       "  <th>C(model_year)[T.72]</th> <td>   -0.4903</td> <td>    0.804</td> <td>   -0.610</td> <td> 0.542</td> <td>   -2.071     1.090</td>\n",
       "</tr>\n",
       "<tr>\n",
       "  <th>C(model_year)[T.73]</th> <td>   -0.5529</td> <td>    0.721</td> <td>   -0.766</td> <td> 0.444</td> <td>   -1.972     0.866</td>\n",
       "</tr>\n",
       "<tr>\n",
       "  <th>C(model_year)[T.74]</th> <td>    1.2420</td> <td>    0.855</td> <td>    1.453</td> <td> 0.147</td> <td>   -0.439     2.923</td>\n",
       "</tr>\n",
       "<tr>\n",
       "  <th>C(model_year)[T.75]</th> <td>    0.8704</td> <td>    0.837</td> <td>    1.039</td> <td> 0.299</td> <td>   -0.776     2.517</td>\n",
       "</tr>\n",
       "<tr>\n",
       "  <th>C(model_year)[T.76]</th> <td>    1.4967</td> <td>    0.802</td> <td>    1.866</td> <td> 0.063</td> <td>   -0.080     3.074</td>\n",
       "</tr>\n",
       "<tr>\n",
       "  <th>C(model_year)[T.77]</th> <td>    2.9987</td> <td>    0.820</td> <td>    3.657</td> <td> 0.000</td> <td>    1.386     4.611</td>\n",
       "</tr>\n",
       "<tr>\n",
       "  <th>C(model_year)[T.78]</th> <td>    2.9738</td> <td>    0.779</td> <td>    3.816</td> <td> 0.000</td> <td>    1.442     4.506</td>\n",
       "</tr>\n",
       "<tr>\n",
       "  <th>C(model_year)[T.79]</th> <td>    4.8962</td> <td>    0.825</td> <td>    5.936</td> <td> 0.000</td> <td>    3.274     6.518</td>\n",
       "</tr>\n",
       "<tr>\n",
       "  <th>C(model_year)[T.80]</th> <td>    9.0589</td> <td>    0.875</td> <td>   10.351</td> <td> 0.000</td> <td>    7.338    10.780</td>\n",
       "</tr>\n",
       "<tr>\n",
       "  <th>C(model_year)[T.81]</th> <td>    6.4582</td> <td>    0.864</td> <td>    7.477</td> <td> 0.000</td> <td>    4.760     8.157</td>\n",
       "</tr>\n",
       "<tr>\n",
       "  <th>C(model_year)[T.82]</th> <td>    7.8376</td> <td>    0.849</td> <td>    9.228</td> <td> 0.000</td> <td>    6.167     9.508</td>\n",
       "</tr>\n",
       "<tr>\n",
       "  <th>C(origin)[T.2]</th>      <td>    1.6933</td> <td>    0.516</td> <td>    3.280</td> <td> 0.001</td> <td>    0.678     2.708</td>\n",
       "</tr>\n",
       "<tr>\n",
       "  <th>C(origin)[T.3]</th>      <td>    2.2929</td> <td>    0.497</td> <td>    4.616</td> <td> 0.000</td> <td>    1.316     3.270</td>\n",
       "</tr>\n",
       "<tr>\n",
       "  <th>displacement</th>        <td>    0.0118</td> <td>    0.007</td> <td>    1.745</td> <td> 0.082</td> <td>   -0.001     0.025</td>\n",
       "</tr>\n",
       "<tr>\n",
       "  <th>horsepower</th>          <td>   -0.0392</td> <td>    0.013</td> <td>   -3.010</td> <td> 0.003</td> <td>   -0.065    -0.014</td>\n",
       "</tr>\n",
       "<tr>\n",
       "  <th>weight</th>              <td>   -0.0052</td> <td>    0.001</td> <td>   -8.300</td> <td> 0.000</td> <td>   -0.006    -0.004</td>\n",
       "</tr>\n",
       "<tr>\n",
       "  <th>acceleration</th>        <td>    0.0036</td> <td>    0.087</td> <td>    0.042</td> <td> 0.967</td> <td>   -0.167     0.174</td>\n",
       "</tr>\n",
       "</table>\n",
       "<table class=\"simpletable\">\n",
       "<tr>\n",
       "  <th>Omnibus:</th>       <td>32.560</td> <th>  Durbin-Watson:     </th> <td>   1.574</td>\n",
       "</tr>\n",
       "<tr>\n",
       "  <th>Prob(Omnibus):</th> <td> 0.000</td> <th>  Jarque-Bera (JB):  </th> <td>  55.829</td>\n",
       "</tr>\n",
       "<tr>\n",
       "  <th>Skew:</th>          <td> 0.528</td> <th>  Prob(JB):          </th> <td>7.53e-13</td>\n",
       "</tr>\n",
       "<tr>\n",
       "  <th>Kurtosis:</th>      <td> 4.518</td> <th>  Cond. No.          </th> <td>7.95e+04</td>\n",
       "</tr>\n",
       "</table>"
      ],
      "text/plain": [
       "<class 'statsmodels.iolib.summary.Summary'>\n",
       "\"\"\"\n",
       "                            OLS Regression Results                            \n",
       "==============================================================================\n",
       "Dep. Variable:                    mpg   R-squared:                       0.874\n",
       "Model:                            OLS   Adj. R-squared:                  0.867\n",
       "Method:                 Least Squares   F-statistic:                     116.8\n",
       "Date:                Fri, 17 Jul 2015   Prob (F-statistic):          2.64e-151\n",
       "Time:                        13:22:01   Log-Likelihood:                -954.59\n",
       "No. Observations:                 392   AIC:                             1955.\n",
       "Df Residuals:                     369   BIC:                             2047.\n",
       "Df Model:                          22                                         \n",
       "Covariance Type:            nonrobust                                         \n",
       "=======================================================================================\n",
       "                          coef    std err          t      P>|t|      [95.0% Conf. Int.]\n",
       "---------------------------------------------------------------------------------------\n",
       "Intercept              30.9168      2.361     13.095      0.000        26.274    35.559\n",
       "C(cylinders)[T.4]       6.9399      1.537      4.516      0.000         3.918     9.962\n",
       "C(cylinders)[T.5]       6.6377      2.337      2.840      0.005         2.042    11.234\n",
       "C(cylinders)[T.6]       4.2973      1.706      2.519      0.012         0.943     7.652\n",
       "C(cylinders)[T.8]       6.3668      1.969      3.234      0.001         2.495    10.238\n",
       "C(model_year)[T.71]     0.9104      0.816      1.116      0.265        -0.693     2.514\n",
       "C(model_year)[T.72]    -0.4903      0.804     -0.610      0.542        -2.071     1.090\n",
       "C(model_year)[T.73]    -0.5529      0.721     -0.766      0.444        -1.972     0.866\n",
       "C(model_year)[T.74]     1.2420      0.855      1.453      0.147        -0.439     2.923\n",
       "C(model_year)[T.75]     0.8704      0.837      1.039      0.299        -0.776     2.517\n",
       "C(model_year)[T.76]     1.4967      0.802      1.866      0.063        -0.080     3.074\n",
       "C(model_year)[T.77]     2.9987      0.820      3.657      0.000         1.386     4.611\n",
       "C(model_year)[T.78]     2.9738      0.779      3.816      0.000         1.442     4.506\n",
       "C(model_year)[T.79]     4.8962      0.825      5.936      0.000         3.274     6.518\n",
       "C(model_year)[T.80]     9.0589      0.875     10.351      0.000         7.338    10.780\n",
       "C(model_year)[T.81]     6.4582      0.864      7.477      0.000         4.760     8.157\n",
       "C(model_year)[T.82]     7.8376      0.849      9.228      0.000         6.167     9.508\n",
       "C(origin)[T.2]          1.6933      0.516      3.280      0.001         0.678     2.708\n",
       "C(origin)[T.3]          2.2929      0.497      4.616      0.000         1.316     3.270\n",
       "displacement            0.0118      0.007      1.745      0.082        -0.001     0.025\n",
       "horsepower             -0.0392      0.013     -3.010      0.003        -0.065    -0.014\n",
       "weight                 -0.0052      0.001     -8.300      0.000        -0.006    -0.004\n",
       "acceleration            0.0036      0.087      0.042      0.967        -0.167     0.174\n",
       "==============================================================================\n",
       "Omnibus:                       32.560   Durbin-Watson:                   1.574\n",
       "Prob(Omnibus):                  0.000   Jarque-Bera (JB):               55.829\n",
       "Skew:                           0.528   Prob(JB):                     7.53e-13\n",
       "Kurtosis:                       4.518   Cond. No.                     7.95e+04\n",
       "==============================================================================\n",
       "\n",
       "Warnings:\n",
       "[1] Standard Errors assume that the covariance matrix of the errors is correctly specified.\n",
       "[2] The condition number is large, 7.95e+04. This might indicate that there are\n",
       "strong multicollinearity or other numerical problems.\n",
       "\"\"\""
      ]
     },
     "execution_count": 79,
     "metadata": {},
     "output_type": "execute_result"
    }
   ],
   "source": [
    "import statsmodels.formula.api as smf\n",
    "\n",
    "est = smf.ols(formula=\"mpg ~ C(cylinders) + displacement + horsepower + weight + acceleration + C(model_year) + C(origin)\", data=float_df).fit()\n",
    "\n",
    "est.summary()"
   ]
  },
  {
   "cell_type": "markdown",
   "metadata": {},
   "source": [
    "'While PCA does not increase our R-squared or Adjusted-R-squared, it does make a model that is potentially more generalizable. I haven't run a cross validation test on this model, but you may see better performance on unseen data after having first performed Dimensionality Reduction. Also there is comparable performance of PCA reduced to 4 features and with the model using all the original 7.'"
   ]
  },
  {
   "cell_type": "markdown",
   "metadata": {},
   "source": [
    "#PCA: More Background\n",
    "######From Zipfian Lecture Notes\n",
    "Usually we will get a covariance matrix with a lot of large values. Our ideal would be one where all the non-diagonal values are 0. This means that there is *no relationship between the features*. We can do a transformation of this data to make this happen!\n",
    "\n",
    "The ideal convariance matrix would look something like this:\n",
    "\n",
    "$\\begin{bmatrix}\n",
    "10 & 0 & 0 \\\\\n",
    "0  & 8 & 0 \\\\\n",
    "0  & 0 & 2\n",
    "\\end{bmatrix}$\n",
    "\n",
    "The idea is to find a new set of axis (a *basis*) that better fit the data."
   ]
  },
  {
   "cell_type": "markdown",
   "metadata": {},
   "source": [
    "#####Our goal is to find a transformation matrix $V$ which when applied to $M$ gives us our ideal covariance matrix:\n",
    "\n",
    "$M^TMV = V\\Lambda$\n",
    "\n",
    "where $\\Lambda$ is the diagonal matrix of eigenvalues.\n",
    "\n",
    "$(MV)^T (MV) = V^TM^TMV =\n",
    "\\begin{bmatrix}\n",
    "\\lambda_1 & 0 & 0 & \\ldots & 0 \\\\\n",
    "0 & \\lambda_2 & 0 & \\ldots & 0 \\\\\n",
    "0 & 0 & \\lambda_3 & \\ldots & 0 \\\\\n",
    "\\vdots & \\vdots & \\vdots & \\ddots & \\vdots \\\\\n",
    "0 & 0 & 0 & \\ldots & \\lambda_p\n",
    "\\end{bmatrix}$\n",
    "\n",
    "To get the transformation, we need to find the eigenvalues and eigenvectors of M^TM. \n",
    "  - The eigenvectors are the new basis. \n",
    "  - The eigenvalues are the variance in each of these dimensions.\n",
    "\n",
    "\n",
    "$V$ is the new basis so it should look like this:\n",
    "\n",
    "$V =\n",
    "\\begin{bmatrix}\n",
    "\\mid & \\mid & \\mid & \\cdots & \\mid \\\\\n",
    "u_1 & u_2 & u_3 & \\cdots & u_p \\\\\n",
    "\\mid & \\mid & \\mid & \\cdots & \\mid\n",
    "\\end{bmatrix}$\n",
    "\n",
    "Note that the $u_1, u_2, \\ldots, u_p$ is an *orthonormal* basis.\n",
    "\n",
    "*orthonormal* means:\n",
    "1. Vectors are normal (perpendicular) with each other. This means their dot products are 0.\n",
    "2. Vectors have norm 1. This means the dot product with itself is 1.\n",
    "\n",
    "So the following is true:\n",
    "\n",
    "$\\begin{align*}\n",
    "V^TV \n",
    "&=\n",
    "\\begin{bmatrix}\n",
    "- & u_1 & - \\\\\n",
    "- & u_2 & - \\\\\n",
    "- & u_3 & - \\\\\n",
    "- & \\vdots & - \\\\\n",
    "- & u_p & -\n",
    "\\end{bmatrix}\n",
    "\\begin{bmatrix}\n",
    "\\mid & \\mid & \\mid & \\cdots & \\mid \\\\\n",
    "u_1 & u_2 & u_3 & \\cdots & u_p \\\\\n",
    "\\mid & \\mid & \\mid & \\cdots & \\mid\n",
    "\\end{bmatrix} \\\\\n",
    "&=\n",
    "\\begin{bmatrix}\n",
    "u_1 \\cdot u_1 & u_1 \\cdot u_2 & \\cdots & u_1 \\cdot u_p \\\\\n",
    "u_2 \\cdot u_1 & u_2 \\cdot u_2 & \\cdots & u_2 \\cdot u_p \\\\\n",
    "\\vdots & \\vdots & \\ddots & \\vdots \\\\\n",
    "u_p \\cdot u_1 & u_p \\cdot u_2 & \\cdots & u_p \\cdot u_p\n",
    "\\end{bmatrix} \\\\\n",
    "&=\n",
    "\\begin{bmatrix}\n",
    "1 & 0 & 0 & \\cdots & 0 \\\\\n",
    "0 & 1 & 0 & \\cdots & 0 \\\\\n",
    "0 & 0 & 1 & \\cdots & 0 \\\\\n",
    "\\vdots & \\vdots & \\vdots & \\ddots & \\vdots \\\\\n",
    "0 & 0 & 0 & \\cdots & 1\n",
    "\\end{bmatrix}\n",
    "\\end{align*}$\n",
    "\n",
    "So $V^TV$ is the identity matrix!"
   ]
  },
  {
   "cell_type": "markdown",
   "metadata": {},
   "source": [
    "Back to the original equation of our ideal world:\n",
    "\n",
    "$\\begin{align*}\n",
    "V^TM^TMV &=\n",
    "\\begin{bmatrix}\n",
    "\\lambda_1 & 0 & 0 & \\ldots & 0 \\\\\n",
    "0 & \\lambda_2 & 0 & \\ldots & 0 \\\\\n",
    "0 & 0 & \\lambda_3 & \\ldots & 0 \\\\\n",
    "\\vdots & \\vdots & \\vdots & \\ddots & \\vdots \\\\\n",
    "0 & 0 & 0 & \\ldots & \\lambda_p\n",
    "\\end{bmatrix}\n",
    "\\\\\n",
    "M^TMV &= V\n",
    "\\begin{bmatrix}\n",
    "\\lambda_1 & 0 & 0 & \\ldots & 0 \\\\\n",
    "0 & \\lambda_2 & 0 & \\ldots & 0 \\\\\n",
    "0 & 0 & \\lambda_3 & \\ldots & 0 \\\\\n",
    "\\vdots & \\vdots & \\vdots & \\ddots & \\vdots \\\\\n",
    "0 & 0 & 0 & \\ldots & \\lambda_p\n",
    "\\end{bmatrix} \\\\\n",
    "&=\n",
    "\\begin{bmatrix}\n",
    "\\mid & \\mid & \\mid & \\cdots & \\mid \\\\\n",
    "u_1 & u_2 & u_3 & \\cdots & u_p \\\\\n",
    "\\mid & \\mid & \\mid & \\cdots & \\mid\n",
    "\\end{bmatrix}\n",
    "\\begin{bmatrix}\n",
    "\\lambda_1 & 0 & 0 & \\ldots & 0 \\\\\n",
    "0 & \\lambda_2 & 0 & \\ldots & 0 \\\\\n",
    "0 & 0 & \\lambda_3 & \\ldots & 0 \\\\\n",
    "\\vdots & \\vdots & \\vdots & \\ddots & \\vdots \\\\\n",
    "0 & 0 & 0 & \\ldots & \\lambda_p\n",
    "\\end{bmatrix}\n",
    "\\end{align*}$\n",
    "\n",
    "Taking just one of these vectors out, we get:\n",
    "\n",
    "$M^TMu_i = \\lambda_iu_i$\n",
    "\n",
    "So we are looking for the ***eigenvalues*** ($\\lambda_i$) and ***eigenvectors*** ($u_i$)."
   ]
  },
  {
   "cell_type": "markdown",
   "metadata": {},
   "source": [
    "#####If we would like to reduce the number of dimensions, we can just get rid of the smallest of the lambdas. To determine how many to keep, we often look at the scree plot, a plot of the variances (eigenvalues, also called loadings) in increasing order."
   ]
  }
 ],
 "metadata": {
  "kernelspec": {
   "display_name": "Python 2",
   "language": "python",
   "name": "python2"
  },
  "language_info": {
   "codemirror_mode": {
    "name": "ipython",
    "version": 2
   },
   "file_extension": ".py",
   "mimetype": "text/x-python",
   "name": "python",
   "nbconvert_exporter": "python",
   "pygments_lexer": "ipython2",
   "version": "2.7.10"
  }
 },
 "nbformat": 4,
 "nbformat_minor": 0
}
