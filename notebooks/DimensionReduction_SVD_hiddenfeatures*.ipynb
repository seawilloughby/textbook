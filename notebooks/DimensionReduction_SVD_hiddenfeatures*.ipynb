{
 "cells": [
  {
   "cell_type": "markdown",
   "metadata": {},
   "source": [
    "# Singular Value Decomposition (SVD)\n",
    "(comapared to PCA...)\n",
    "It's not always easy to directly compute the eigenvalues and eigenvectors. We can use a technique called SVD for more efficient computation. SVD is also useful for discovering hidden topics or ***latent features***.\n",
    "\n",
    "Every matrix has a *unique* decomposition in the following form:\n",
    "\n",
    "$M = U \\Sigma V^T$\n",
    "\n",
    "where\n",
    "* $U$ is column orthogonal: $U^T U = I$\n",
    "* $V$ is column orthogonal: $V^T V = I$\n",
    "* $\\Sigma$ is a diagonal matrix of positive values, where the diagonal is ordered in decreasing order\n",
    "\n",
    "We can reduce the dimensions by sending the smaller of the diagonals to 0.\n",
    "\n",
    "![http://www.shermanlab.com/science/CS/IR/DiracFockIR2/DiracFockRiemannAndIR_files/image002.gif](http://www.shermanlab.com/science/CS/IR/DiracFockIR2/DiracFockRiemannAndIR_files/image002.gif)\n"
   ]
  },
  {
   "cell_type": "markdown",
   "metadata": {},
   "source": [
    "## SVD for topic analysis\n",
    "\n",
    "We can use SVD to determine what we call ***latent features***. This will be best demonstrated with an example.\n",
    "\n",
    "### Example\n",
    "\n",
    "Let's look at users ratings of different movies. The ratings are from 1-5. A rating of 0 means the user hasn't watched the movie.\n",
    "\n",
    "|       | Matrix | Alien | Serenity | Casablanca | Amelie |\n",
    "| ----- | ------ | ----- | -------- | ---------- | ------ |\n",
    "| **Alice** |      1 |     1 |        1 |          0 |      0 |\n",
    "|   **Bob** |      3 |     3 |        3 |          0 |      0 |\n",
    "| **Cindy** |      4 |     4 |        4 |          0 |      0 |\n",
    "|   **Dan** |      5 |     5 |        5 |          0 |      0 |\n",
    "| **Emily** |      0 |     2 |        0 |          4 |      4 |\n",
    "| **Frank** |      0 |     0 |        0 |          5 |      5 |\n",
    "|  **Greg** |      0 |     1 |        0 |          2 |      2 |\n",
    "\n",
    "Note that the three movies (Matrix, Alien, Serenity) are Sci-fi movies and the last two (Casablanca, Amelie) are Romance. We will be able to mathematically pull out these topics!\n",
    "\n",
    "Let's do the computation with Python."
   ]
  },
  {
   "cell_type": "code",
   "execution_count": 6,
   "metadata": {
    "collapsed": false
   },
   "outputs": [
    {
     "name": "stdout",
     "output_type": "stream",
     "text": [
      "[[1 1 1 0 0]\n",
      " [3 3 3 0 0]\n",
      " [4 4 4 0 0]\n",
      " [5 5 5 0 0]\n",
      " [0 2 0 4 4]\n",
      " [0 0 0 5 5]\n",
      " [0 1 0 2 2]]\n",
      "M =\n",
      "u *\n",
      "[[-0.14 -0.02 -0.01  0.56 -0.38 -0.7  -0.19]\n",
      " [-0.41 -0.07 -0.03  0.21  0.76 -0.26  0.38]\n",
      " [-0.55 -0.09 -0.04 -0.72 -0.18 -0.34 -0.09]\n",
      " [-0.69 -0.12 -0.05  0.34 -0.23  0.57 -0.12]\n",
      " [-0.15  0.59  0.65  0.    0.2   0.   -0.4 ]\n",
      " [-0.07  0.73 -0.68  0.    0.    0.    0.  ]\n",
      " [-0.08  0.3   0.33  0.   -0.4   0.    0.8 ]]\n",
      "E*\n",
      "[ 12.48   9.51   1.35   0.     0.  ]\n",
      "V\n",
      "[[-0.56 -0.59 -0.56 -0.09 -0.09]\n",
      " [-0.13  0.03 -0.13  0.7   0.7 ]\n",
      " [-0.41  0.8  -0.41 -0.09 -0.09]\n",
      " [-0.71  0.    0.71  0.    0.  ]\n",
      " [ 0.   -0.    0.   -0.71  0.71]]\n"
     ]
    }
   ],
   "source": [
    "from numpy.linalg import svd\n",
    "import numpy as np\n",
    "\n",
    "\n",
    "M = np.array([[1, 1, 1, 0, 0],\n",
    "              [3, 3, 3, 0, 0],\n",
    "              [4, 4, 4, 0, 0],\n",
    "              [5, 5, 5, 0, 0],\n",
    "              [0, 2, 0, 4, 4],\n",
    "              [0, 0, 0, 5, 5],\n",
    "              [0, 1, 0, 2, 2]])\n",
    "\n",
    "u, e, v = svd(M)\n",
    "print M\n",
    "print \"M =\"\n",
    "print 'u *\\n',np.around(u, 2)\n",
    "print 'E*\\n', np.around(e, 2)\n",
    "print 'V\\n',np.around(v, 2)"
   ]
  },
  {
   "cell_type": "markdown",
   "metadata": {},
   "source": [
    "Note that the last two singular values are 0, so we can drop them. Note that these values are 0 because the rank of our original matrix is 3."
   ]
  },
  {
   "cell_type": "markdown",
   "metadata": {},
   "source": [
    "You can see the two topics fall out:\n",
    "\n",
    "1. Science Fiction\n",
    "    * First singular value (12.4)\n",
    "    * First column of the $U$ matrix (note that the first four users have large values here)\n",
    "    * First row of the $V$ matrix (note that the first three movies have large values here)\n",
    "2. Romance\n",
    "    * Second singular value (9.5)\n",
    "    * Second column of the $U$ matrix (note that the last three users have large values here)\n",
    "    * Second row of the $V$ matrix (note that the last two movies have large values here)\n",
    "\n",
    "$U$ is the ***user-to-topic*** matrix and $V$ is the ***movie-to-topic*** matrix.\n",
    "\n",
    "The third singular value is relatively small, so we can exclude it with little loss of data. Let's tdo that and reconstruct our matrix!\n",
    "\n",
    "$\\begin{align*}\n",
    "\\begin{bmatrix}\n",
    "1 & 1 & 1 & 0 & 0 \\\\\n",
    "3 & 3 & 3 & 0 & 0 \\\\\n",
    "4 & 4 & 4 & 0 & 0 \\\\\n",
    "5 & 5 & 5 & 0 & 0 \\\\\n",
    "0 & 2 & 0 & 4 & 4 \\\\\n",
    "0 & 0 & 0 & 5 & 5 \\\\\n",
    "0 & 1 & 0 & 2 & 2\n",
    "\\end{bmatrix}\n",
    "&\\approx\n",
    "\\begin{bmatrix}\n",
    "-0.14 & -0.02 \\\\\n",
    "-0.41 & -0.07 \\\\\n",
    "-0.55 & -0.09 \\\\\n",
    "-0.69 & -0.12 \\\\\n",
    "-0.15 & 0.59 \\\\\n",
    "-0.07 & 0.73 \\\\\n",
    "-0.08 & 0.3\n",
    "\\end{bmatrix}\n",
    "\\begin{bmatrix}\n",
    "12.48 & 0.0 \\\\\n",
    "0.0 & 9.51\n",
    "\\end{bmatrix}\n",
    "\\begin{bmatrix}\n",
    "-0.56 & -0.59 & -0.56 & -0.09 & -0.09 \\\\\n",
    "-0.13 & 0.03 & -0.13 & 0.7 & 0.7\n",
    "\\end{bmatrix} \\\\\n",
    "&=\n",
    "\\begin{bmatrix}\n",
    "0.99 & 1.01 & 0.99 & -0.0 & -0.0 \\\\\n",
    "2.98 & 3.04 & 2.98 & -0.0 & -0.0 \\\\\n",
    "3.98 & 4.05 & 3.98 & -0.01 & -0.01 \\\\\n",
    "4.97 & 5.06 & 4.97 & -0.01 & -0.01 \\\\\n",
    "0.36 & 1.29 & 0.36 & 4.08 & 4.08 \\\\\n",
    "-0.37 & 0.73 & -0.37 & 4.92 & 4.92 \\\\\n",
    "0.18 & 0.65 & 0.18 & 2.04 & 2.04\n",
    "\\end{bmatrix}\n",
    "\\end{align*}$"
   ]
  },
  {
   "cell_type": "markdown",
   "metadata": {},
   "source": [
    "###Example with Data: What Books do People Like?"
   ]
  },
  {
   "cell_type": "markdown",
   "metadata": {},
   "source": [
    "####1. Simple Data Aquisition/Cleaning\n",
    "first aquire and clean the dataset."
   ]
  },
  {
   "cell_type": "code",
   "execution_count": 96,
   "metadata": {
    "collapsed": false
   },
   "outputs": [
    {
     "name": "stdout",
     "output_type": "stream",
     "text": [
      "   Unnamed: 0  User-ID        ISBN  Book-Rating\n",
      "0        1083   277195  0060391626           10\n",
      "1        1084   277195  0060502258            0\n",
      "2        1089   277195  0060987561            0\n",
      "3        1098   277195  0316666343            0\n",
      "4        1099   277195  0316734837            0\n"
     ]
    }
   ],
   "source": [
    "import pandas as pd\n",
    "import re\n",
    "import matplotlib.pyplot as plt\n",
    "from scipy.spatial.distance import pdist\n",
    "%matplotlib inline\n",
    "\n",
    "#this tells all the ratings \n",
    "ratings = pd.read_csv('data/book_reviews.csv')\n",
    "print ratings.head()\n"
   ]
  },
  {
   "cell_type": "markdown",
   "metadata": {},
   "source": [
    "####2) Get the User x Movie Matrix with Values of the Ratings\n",
    "Pivot the ISBN So we can get a matrix of User x Book, with Rating as the Values"
   ]
  },
  {
   "cell_type": "code",
   "execution_count": 28,
   "metadata": {
    "collapsed": false
   },
   "outputs": [
    {
     "data": {
      "text/html": [
       "<div style=\"max-height:1000px;max-width:1500px;overflow:auto;\">\n",
       "<table border=\"1\" class=\"dataframe\">\n",
       "  <thead>\n",
       "    <tr style=\"text-align: right;\">\n",
       "      <th>ISBN</th>\n",
       "      <th>0006493580</th>\n",
       "      <th>000649840X</th>\n",
       "      <th>0006512135</th>\n",
       "      <th>0006513204</th>\n",
       "      <th>0006514855</th>\n",
       "      <th>0006547834</th>\n",
       "      <th>0006550576</th>\n",
       "      <th>0006550681</th>\n",
       "      <th>0006550789</th>\n",
       "      <th>0007110928</th>\n",
       "      <th>...</th>\n",
       "      <th>8495618605</th>\n",
       "      <th>8497593588</th>\n",
       "      <th>8804342838</th>\n",
       "      <th>8806142100</th>\n",
       "      <th>8806143042</th>\n",
       "      <th>8807813025</th>\n",
       "      <th>8817106100</th>\n",
       "      <th>8845205118</th>\n",
       "      <th>8873122933</th>\n",
       "      <th>8885989403</th>\n",
       "    </tr>\n",
       "    <tr>\n",
       "      <th>User-ID</th>\n",
       "      <th></th>\n",
       "      <th></th>\n",
       "      <th></th>\n",
       "      <th></th>\n",
       "      <th></th>\n",
       "      <th></th>\n",
       "      <th></th>\n",
       "      <th></th>\n",
       "      <th></th>\n",
       "      <th></th>\n",
       "      <th></th>\n",
       "      <th></th>\n",
       "      <th></th>\n",
       "      <th></th>\n",
       "      <th></th>\n",
       "      <th></th>\n",
       "      <th></th>\n",
       "      <th></th>\n",
       "      <th></th>\n",
       "      <th></th>\n",
       "      <th></th>\n",
       "    </tr>\n",
       "  </thead>\n",
       "  <tbody>\n",
       "    <tr>\n",
       "      <th>243</th>\n",
       "      <td>-1</td>\n",
       "      <td>-1</td>\n",
       "      <td>-1</td>\n",
       "      <td>-1</td>\n",
       "      <td>-1</td>\n",
       "      <td>-1</td>\n",
       "      <td>-1</td>\n",
       "      <td>-1</td>\n",
       "      <td>-1</td>\n",
       "      <td>-1</td>\n",
       "      <td>...</td>\n",
       "      <td>-1</td>\n",
       "      <td>-1</td>\n",
       "      <td>-1</td>\n",
       "      <td>-1</td>\n",
       "      <td>-1</td>\n",
       "      <td>-1</td>\n",
       "      <td>-1</td>\n",
       "      <td>-1</td>\n",
       "      <td>-1</td>\n",
       "      <td>-1</td>\n",
       "    </tr>\n",
       "    <tr>\n",
       "      <th>254</th>\n",
       "      <td>-1</td>\n",
       "      <td>-1</td>\n",
       "      <td>-1</td>\n",
       "      <td>-1</td>\n",
       "      <td>-1</td>\n",
       "      <td>-1</td>\n",
       "      <td>-1</td>\n",
       "      <td>-1</td>\n",
       "      <td>-1</td>\n",
       "      <td>-1</td>\n",
       "      <td>...</td>\n",
       "      <td>-1</td>\n",
       "      <td>-1</td>\n",
       "      <td>-1</td>\n",
       "      <td>-1</td>\n",
       "      <td>-1</td>\n",
       "      <td>-1</td>\n",
       "      <td>-1</td>\n",
       "      <td>-1</td>\n",
       "      <td>-1</td>\n",
       "      <td>-1</td>\n",
       "    </tr>\n",
       "    <tr>\n",
       "      <th>507</th>\n",
       "      <td>-1</td>\n",
       "      <td>-1</td>\n",
       "      <td>-1</td>\n",
       "      <td>-1</td>\n",
       "      <td>-1</td>\n",
       "      <td>-1</td>\n",
       "      <td>-1</td>\n",
       "      <td>-1</td>\n",
       "      <td>-1</td>\n",
       "      <td>-1</td>\n",
       "      <td>...</td>\n",
       "      <td>-1</td>\n",
       "      <td>-1</td>\n",
       "      <td>-1</td>\n",
       "      <td>-1</td>\n",
       "      <td>-1</td>\n",
       "      <td>-1</td>\n",
       "      <td>-1</td>\n",
       "      <td>-1</td>\n",
       "      <td>-1</td>\n",
       "      <td>-1</td>\n",
       "    </tr>\n",
       "    <tr>\n",
       "      <th>638</th>\n",
       "      <td>-1</td>\n",
       "      <td>-1</td>\n",
       "      <td>-1</td>\n",
       "      <td>-1</td>\n",
       "      <td>-1</td>\n",
       "      <td>-1</td>\n",
       "      <td>-1</td>\n",
       "      <td>-1</td>\n",
       "      <td>-1</td>\n",
       "      <td>-1</td>\n",
       "      <td>...</td>\n",
       "      <td>-1</td>\n",
       "      <td>-1</td>\n",
       "      <td>-1</td>\n",
       "      <td>-1</td>\n",
       "      <td>-1</td>\n",
       "      <td>-1</td>\n",
       "      <td>-1</td>\n",
       "      <td>-1</td>\n",
       "      <td>-1</td>\n",
       "      <td>-1</td>\n",
       "    </tr>\n",
       "    <tr>\n",
       "      <th>805</th>\n",
       "      <td>-1</td>\n",
       "      <td>-1</td>\n",
       "      <td>-1</td>\n",
       "      <td>-1</td>\n",
       "      <td>-1</td>\n",
       "      <td>-1</td>\n",
       "      <td>-1</td>\n",
       "      <td>-1</td>\n",
       "      <td>-1</td>\n",
       "      <td>-1</td>\n",
       "      <td>...</td>\n",
       "      <td>-1</td>\n",
       "      <td>-1</td>\n",
       "      <td>-1</td>\n",
       "      <td>-1</td>\n",
       "      <td>-1</td>\n",
       "      <td>-1</td>\n",
       "      <td>-1</td>\n",
       "      <td>-1</td>\n",
       "      <td>-1</td>\n",
       "      <td>-1</td>\n",
       "    </tr>\n",
       "  </tbody>\n",
       "</table>\n",
       "<p>5 rows × 6092 columns</p>\n",
       "</div>"
      ],
      "text/plain": [
       "ISBN     0006493580  000649840X  0006512135  0006513204  0006514855  \\\n",
       "User-ID                                                               \n",
       "243              -1          -1          -1          -1          -1   \n",
       "254              -1          -1          -1          -1          -1   \n",
       "507              -1          -1          -1          -1          -1   \n",
       "638              -1          -1          -1          -1          -1   \n",
       "805              -1          -1          -1          -1          -1   \n",
       "\n",
       "ISBN     0006547834  0006550576  0006550681  0006550789  0007110928  \\\n",
       "User-ID                                                               \n",
       "243              -1          -1          -1          -1          -1   \n",
       "254              -1          -1          -1          -1          -1   \n",
       "507              -1          -1          -1          -1          -1   \n",
       "638              -1          -1          -1          -1          -1   \n",
       "805              -1          -1          -1          -1          -1   \n",
       "\n",
       "ISBN        ...      8495618605  8497593588  8804342838  8806142100  \\\n",
       "User-ID     ...                                                       \n",
       "243         ...              -1          -1          -1          -1   \n",
       "254         ...              -1          -1          -1          -1   \n",
       "507         ...              -1          -1          -1          -1   \n",
       "638         ...              -1          -1          -1          -1   \n",
       "805         ...              -1          -1          -1          -1   \n",
       "\n",
       "ISBN     8806143042  8807813025  8817106100  8845205118  8873122933  \\\n",
       "User-ID                                                               \n",
       "243              -1          -1          -1          -1          -1   \n",
       "254              -1          -1          -1          -1          -1   \n",
       "507              -1          -1          -1          -1          -1   \n",
       "638              -1          -1          -1          -1          -1   \n",
       "805              -1          -1          -1          -1          -1   \n",
       "\n",
       "ISBN     8885989403  \n",
       "User-ID              \n",
       "243              -1  \n",
       "254              -1  \n",
       "507              -1  \n",
       "638              -1  \n",
       "805              -1  \n",
       "\n",
       "[5 rows x 6092 columns]"
      ]
     },
     "execution_count": 28,
     "metadata": {},
     "output_type": "execute_result"
    }
   ],
   "source": [
    "data = ratings.pivot('User-ID','ISBN','Book-Rating')\n",
    "data.fillna(-1,inplace=True)\n",
    "data.head()"
   ]
  },
  {
   "cell_type": "markdown",
   "metadata": {},
   "source": [
    "#####3) Get the U, S, V matrix\n",
    "Using numpy's SVD method, decompose our rating matrix into 3 component matrices.\n",
    "\n",
    "Now that we have our component matrices, we would like to inspect the decomposition and determine how many dimensions we should keep. This is the same process as what we did above for the image dataset with the scree-plot.\n",
    "\n"
   ]
  },
  {
   "cell_type": "code",
   "execution_count": 50,
   "metadata": {
    "collapsed": true
   },
   "outputs": [],
   "source": [
    "U,Sigma,VT = np.linalg.svd(data)"
   ]
  },
  {
   "cell_type": "markdown",
   "metadata": {},
   "source": [
    "####4) Use the Elbow method to determine the number of latent features to 'keep'/consider \n",
    "First calculate the energy that each singular value represents. Energy is the same as variance of a dimension and we can compute it simply by squaring the singular values.\n",
    "Total energy is the sum of the energy of each singular value. Plot the energy of each singular value and look for the 'elbow'. How many singular values should you keep?"
   ]
  },
  {
   "cell_type": "code",
   "execution_count": 46,
   "metadata": {
    "collapsed": false
   },
   "outputs": [
    {
     "data": {
      "image/png": "[encoded data removed]",
      "text/plain": [
       "<matplotlib.figure.Figure at 0x1092b7150>"
      ]
     },
     "metadata": {},
     "output_type": "display_data"
    }
   ],
   "source": [
    "def plot_svd_energy(Sigma):\n",
    "    '''takes the s matrix from np.linalg.svd(data), plots the energy (variance of a dimension)'''\n",
    "    energy = Sigma**2\n",
    "    \n",
    "    plt.figure(figsize=(10,10))\n",
    "    plt.xlabel('singular value')\n",
    "    plt.ylabel('energy')\n",
    "    \n",
    "    plt.plot(energy,marker='o')\n",
    "    #plt.yscale('log')\n",
    "    plt.ylim(0, 50000)\n",
    "    plt.xlim(0, 1500)\n",
    "    plt.show()\n",
    "    \n",
    "plot_svd_energy(Sigma)\n",
    "#Decide to keep around "
   ]
  },
  {
   "cell_type": "markdown",
   "metadata": {},
   "source": [
    "The reason we might be interested in total energy is to have some sense of the information loss of our transformation. Plot how the total energy varies as you add additional singular values, i.e. plot total energy of SV1, SV1 + SV2, SV1 + SV2 + SV3, etc. This is equivalent to the cumulative sum of the squares of the singular values. How many singular values do you need to keep to retain 90% of the total energy?"
   ]
  },
  {
   "cell_type": "code",
   "execution_count": 48,
   "metadata": {
    "collapsed": false
   },
   "outputs": [
    {
     "name": "stdout",
     "output_type": "stream",
     "text": [
      "440\n"
     ]
    },
    {
     "data": {
      "image/png": "[encoded data removed]",
      "text/plain": [
       "<matplotlib.figure.Figure at 0x113acff50>"
      ]
     },
     "metadata": {},
     "output_type": "display_data"
    }
   ],
   "source": [
    "def plot_total_energy(Sigma,n):\n",
    "    energy = Sigma**2\n",
    "    \n",
    "    total_energy = np.cumsum(energy[:n])\n",
    "    plt.plot(total_energy,marker='o')\n",
    "    plt.xlabel('singular value')\n",
    "    plt.ylabel('cumulative energy')\n",
    "    final = 0.9*total_energy[-1]\n",
    "    plt.hlines(final,0,n,color='r')\n",
    "    print np.argmin(abs(total_energy-final))\n",
    "    plt.xlim(0, 2500)\n",
    "\n",
    "\n",
    "plot_total_energy(Sigma,2500)\n"
   ]
  },
  {
   "cell_type": "markdown",
   "metadata": {},
   "source": [
    "####3) Keep a subset of topics. Let's just do 10 (I know! Crazy few)'\n",
    " Look at V to find which books most contribute to each 'topic'. For each of these 'topics', print out the title and author of the 10 most relevant books.\n",
    "\n",
    "Get the info form the meta data file earlier.\n",
    "\n",
    "Reminder: U - Sigma - V^T"
   ]
  },
  {
   "cell_type": "code",
   "execution_count": 89,
   "metadata": {
    "collapsed": false
   },
   "outputs": [
    {
     "name": "stderr",
     "output_type": "stream",
     "text": [
      "Skipping line 227933: expected 10 fields, saw 11\n",
      "\n",
      "/Users/clwilloughby/anaconda/lib/python2.7/site-packages/pandas/io/parsers.py:1164: DtypeWarning: Columns (3,8,9) have mixed types. Specify dtype option on import or set low_memory=False.\n",
      "  data = self._reader.read(nrows)\n"
     ]
    }
   ],
   "source": [
    "#get the metadata so we can pull author informaiton about th ebook\n",
    "books = pd.read_csv('data/book_meta.csv', sep=';', error_bad_lines=False)\n",
    "books = books.set_index('ISBN')"
   ]
  },
  {
   "cell_type": "code",
   "execution_count": 68,
   "metadata": {
    "collapsed": true
   },
   "outputs": [],
   "source": [
    "U_10 = U[:,:10]\n",
    "#want all the users, only the first 10 features\n",
    "V_10 = VT[:10,:]\n",
    "#want the first 10 features, all the books\n"
   ]
  },
  {
   "cell_type": "code",
   "execution_count": 98,
   "metadata": {
    "collapsed": true
   },
   "outputs": [],
   "source": [
    "def print_titles(topic, n):\n",
    "    '''Prints out the top n Books and Authors for a given topic (latent feature)'''\n",
    "    \n",
    "    #first sort the every row (the features) so that the isbns are in order\n",
    "    indx = np.argsort(topic)\n",
    "    rv_indx = indx[::-1] #have to reverse it so highest isbns first\n",
    "    \n",
    "    #get the first n (here is 10) isbn\n",
    "    for idx in data.columns[rv_indx[:n]]:\n",
    "        try:\n",
    "            #use the sorted isbns to pull the corresponding title\n",
    "            print books.loc[idx]['Book-Title'] + \" : \" + books.loc[idx]['Book-Author']\n",
    "        except Exception:  #if there is no book title then..ohwell\n",
    "            continue"
   ]
  },
  {
   "cell_type": "code",
   "execution_count": 97,
   "metadata": {
    "collapsed": false
   },
   "outputs": [
    {
     "name": "stdout",
     "output_type": "stream",
     "text": [
      "Topic #1 :\n",
      "\n",
      "\n",
      "Name Der Rose : Umberto Eco\n",
      "Monsieur Ibrahim und die Blumen des Koran. Erz�?¤hlung. : Eric-Emmanuel Schmitt\n",
      "Artemis Fowl. : Eoin Colfer\n",
      "Novocento, Un Monologo : Alessandro Baricco\n",
      "Schlafes Bruder : Robert Schneider\n",
      "New Vegetarian: Bold and Beautiful Recipes for Every Occasion : Celia Brooks Brown\n",
      "Der Alchimist. : Paulo Coelho\n",
      "Die Weiss Lowin / Contemporary German Lit : Henning Mankell\n",
      "Crazy : Benjamin Lebert\n",
      "Free : Paul Vincent\n",
      "\n",
      "\n",
      "Topic #2 :\n",
      "\n",
      "\n",
      "The Red Tent (Bestselling Backlist) : Anita Diamant\n",
      "The Lovely Bones: A Novel : Alice Sebold\n",
      "The Da Vinci Code : Dan Brown\n",
      "Where the Heart Is (Oprah's Book Club (Paperback)) : Billie Letts\n",
      "Two for the Dough : Janet Evanovich\n",
      "Snow Falling on Cedars : David Guterson\n",
      "Harry Potter and the Sorcerer's Stone (Harry Potter (Paperback)) : J. K. Rowling\n",
      "1st to Die: A Novel : James Patterson\n",
      "Good in Bed : Jennifer Weiner\n",
      "Tuesdays with Morrie: An Old Man, a Young Man, and Life's Greatest Lesson : MITCH ALBOM\n",
      "\n",
      "\n",
      "Topic #3 :\n",
      "\n",
      "\n",
      "Dance upon the Air (Three Sisters Island Trilogy) : Nora Roberts\n",
      "Face the Fire (Three Sisters Island Trilogy) : Nora Roberts\n",
      "Heart of the Sea (Irish Trilogy) : Nora Roberts\n",
      "Jewels of the Sun (Irish Trilogy) : Nora Roberts\n",
      "Key of Valor (Roberts, Nora. Key Trilogy, 3.) : Nora Roberts\n",
      "Tears of the Moon (Irish Trilogy) : Nora Roberts\n",
      "Key of Light (Key Trilogy (Paperback)) : Nora Roberts\n",
      "Heaven and Earth (Three Sisters Island Trilogy) : Nora Roberts\n",
      "Key of Knowledge (Key Trilogy (Paperback)) : Nora Roberts\n",
      "Purity in Death : J.D. Robb\n",
      "\n",
      "\n",
      "Topic #4 :\n",
      "\n",
      "\n",
      "The Lovely Bones: A Novel : Alice Sebold\n",
      "The Red Tent (Bestselling Backlist) : Anita Diamant\n",
      "A Time to Kill : JOHN GRISHAM\n",
      "The Pilot's Wife : A Novel : Anita Shreve\n",
      "Divine Secrets of the Ya-Ya Sisterhood: A Novel : Rebecca Wells\n",
      "The Pelican Brief : John Grisham\n",
      "Where the Heart Is (Oprah's Book Club (Paperback)) : Billie Letts\n",
      "The Secret Life of Bees : Sue Monk Kidd\n",
      "Harry Potter and the Sorcerer's Stone (Harry Potter (Paperback)) : J. K. Rowling\n",
      "\n",
      "\n",
      "Topic #5 :\n",
      "\n",
      "\n",
      "The Firm : John Grisham\n",
      "The Pelican Brief : John Grisham\n",
      "A Time to Kill : JOHN GRISHAM\n",
      "Silence of the Lambs : Thomas Harris\n",
      "The Chamber : John Grisham\n",
      "The Client : John Grisham\n",
      "The Dark Half : Stephen King\n",
      "The Tommyknockers : Stephen King\n",
      "The Rainmaker : JOHN GRISHAM\n",
      "Cruel &amp; Unusual (Kay Scarpetta Mysteries (Paperback)) : Patricia D. Cornwell\n",
      "\n",
      "\n",
      "Topic #6 :\n",
      "\n",
      "\n",
      "The Lovely Bones: A Novel : Alice Sebold\n",
      "The Da Vinci Code : Dan Brown\n",
      "To the Nines: A Stephanie Plum Novel : Janet Evanovich\n",
      "The Five People You Meet in Heaven : Mitch Albom\n",
      "1st to Die: A Novel : James Patterson\n",
      "The Last Juror : John Grisham\n",
      "2nd Chance : James Patterson\n",
      "Four Blind Mice : James Patterson\n",
      "No Second  Chance : Harlan Coben\n",
      "Full House (Janet Evanovich's Full Series) : Janet Evanovich\n",
      "\n",
      "\n",
      "Topic #7 :\n",
      "\n",
      "\n",
      "Harry Potter and the Order of the Phoenix (Book 5) : J. K. Rowling\n",
      "Harry Potter and the Prisoner of Azkaban (Book 3) : J. K. Rowling\n",
      "Harry Potter and the Chamber of Secrets (Book 2) : J. K. Rowling\n",
      "Harry Potter and the Goblet of Fire (Book 4) : J. K. Rowling\n",
      "Harry Potter and the Sorcerer's Stone (Book 1) : J. K. Rowling\n",
      "The Da Vinci Code : Dan Brown\n",
      "Harry Potter and the Sorcerer's Stone (Harry Potter (Paperback)) : J. K. Rowling\n",
      "Interview with the Vampire : Anne Rice\n",
      "The Vampire Lestat (Vampire Chronicles, Book II) : ANNE RICE\n",
      "The Hobbit : The Enchanting Prelude to The Lord of the Rings : J.R.R. TOLKIEN\n",
      "\n",
      "\n",
      "Topic #8 :\n",
      "\n",
      "\n",
      "The Tommyknockers : Stephen King\n",
      "Insomnia : Stephen King\n",
      "Gerald's Game : Stephen King\n",
      "The Da Vinci Code : Dan Brown\n",
      "Bag of Bones : Stephen King\n",
      "The Lovely Bones: A Novel : Alice Sebold\n",
      "Dolores Claiborne : Stephen King\n",
      "The Green Mile : Stephen King\n",
      "Watchers : Dean R. Koontz\n",
      "Nightmares &amp; Dreamscapes : Stephen King\n",
      "\n",
      "\n",
      "Topic #9 :\n",
      "\n",
      "\n",
      "Harry Potter and the Chamber of Secrets (Book 2) : J. K. Rowling\n",
      "Harry Potter and the Prisoner of Azkaban (Book 3) : J. K. Rowling\n",
      "Harry Potter and the Sorcerer's Stone (Book 1) : J. K. Rowling\n",
      "Harry Potter and the Goblet of Fire (Book 4) : J. K. Rowling\n",
      "Harry Potter and the Order of the Phoenix (Book 5) : J. K. Rowling\n",
      "Where the Heart Is (Oprah's Book Club (Paperback)) : Billie Letts\n",
      "The Bad Beginning (A Series of Unfortunate Events, Book 1) : Lemony Snicket\n",
      "The Notebook : Nicholas Sparks\n",
      "Melody (Logan) : V.C. Andrews\n",
      "Flowers In The Attic (Dollanganger) : V.C. Andrews\n",
      "\n",
      "\n",
      "Topic #10 :\n",
      "\n",
      "\n",
      "Harry Potter and the Sorcerer's Stone (Harry Potter (Paperback)) : J. K. Rowling\n",
      "Left Behind: A Novel of the Earth's Last Days (Left Behind No. 1) : Tim Lahaye\n",
      "Nicolae: The Rise of Antichrist (Left Behind No. 3) : Tim F. Lahaye\n",
      "The Divine Secrets of the Ya-Ya Sisterhood: A Novel : Rebecca Wells\n",
      "Harry Potter and the Chamber of Secrets (Book 2) : J. K. Rowling\n",
      "Seven Up (A Stephanie Plum Novel) : Janet Evanovich\n",
      "The Client : John Grisham\n",
      "Fahrenheit 451 : RAY BRADBURY\n",
      "Two for the Dough : Janet Evanovich\n",
      "The Mark: The Beast Rules the World (Left Behind #8) : Tim LaHaye\n",
      "\n",
      "\n"
     ]
    }
   ],
   "source": [
    "#loop over the top 10 topics\n",
    "#for each topic, use the function to print out the top 10 books and authors\n",
    "for i in range(len(V_10)):\n",
    "    print \"Topic #%d :\" % (i+1)\n",
    "    print \"\\n\"\n",
    "    print_titles(V_10[i], 10)\n",
    "    print \"\\n\""
   ]
  },
  {
   "cell_type": "code",
   "execution_count": null,
   "metadata": {
    "collapsed": true
   },
   "outputs": [],
   "source": []
  }
 ],
 "metadata": {
  "kernelspec": {
   "display_name": "Python 2",
   "language": "python",
   "name": "python2"
  },
  "language_info": {
   "codemirror_mode": {
    "name": "ipython",
    "version": 2
   },
   "file_extension": ".py",
   "mimetype": "text/x-python",
   "name": "python",
   "nbconvert_exporter": "python",
   "pygments_lexer": "ipython2",
   "version": "2.7.10"
  }
 },
 "nbformat": 4,
 "nbformat_minor": 0
}
