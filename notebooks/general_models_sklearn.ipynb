{
 "cells": [
  {
   "cell_type": "code",
   "execution_count": 2,
   "metadata": {
    "collapsed": false
   },
   "outputs": [],
   "source": [
    "import numpy as np\n",
    "\n",
    "import scipy.stats as st\n",
    "#get models. Here are examples of where they live! \n",
    "from sklearn.linear_model import LinearRegression, LogisticRegression\n",
    "from sklearn.neighbors import KNeighborsClassifier\n",
    "from sklearn.ensemble import RandomForestClassifier\n",
    "from sklearn.tree import DecisionTreeClassifier\n",
    "\n",
    "#import ways to evalue the models\n",
    "from sklearn.metrics import confusion_matrix, precision_score, recall_score\n"
   ]
  },
  {
   "cell_type": "code",
   "execution_count": null,
   "metadata": {
    "collapsed": true
   },
   "outputs": [],
   "source": [
    "#instantiate the model class\n",
    "model = Model()\n",
    "\n",
    "#fit the model with a training set, features and labels\n",
    "model.fit(X_train, y_train)\n",
    "\n",
    "#use the test variables to evlaute the quality of the model\n",
    "#get a score for how goot the model is\n",
    "model.score(X_test, y_test)\n",
    "\n",
    "y_predict = model.predict(X_test)\n"
   ]
  },
  {
   "cell_type": "code",
   "execution_count": 4,
   "metadata": {
    "collapsed": true
   },
   "outputs": [],
   "source": [
    "confusion_matrix(y_test, y_predict)"
   ]
  },
  {
   "cell_type": "code",
   "execution_count": null,
   "metadata": {
    "collapsed": true
   },
   "outputs": [],
   "source": [
    "np.argsort()"
   ]
  },
  {
   "cell_type": "code",
   "execution_count": null,
   "metadata": {
    "collapsed": true
   },
   "outputs": [],
   "source": [
    "def calculate_t_test(sample1, sample2, critical_value):\n",
    "    '''\n",
    "    INPUT: NUMPY ARRAY, NUMPY ARRAY\n",
    "    OUTPUT: FLOAT, BOOLEAN\n",
    "    You are asked to evaluate whether the two samples come from the same\n",
    "    distribution.\n",
    "    Return a tuple containing the p-value for the pair of samples and True or\n",
    "    False depending if the p-value beats the critical value.\n",
    "    '''\n",
    "    blah, pvalue = st.ttest_ind(sample1, sample2)\n",
    "    return pvalue, pvalue < critical_value\n"
   ]
  },
  {
   "cell_type": "code",
   "execution_count": 4,
   "metadata": {
    "collapsed": true
   },
   "outputs": [],
   "source": [
    "from numpy.random import beta as beta_dist\n",
    "def calculate_clickthrough_prob(clicks_A, views_A, clicks_B, views_B):\n",
    "    '''\n",
    "    INPUT: INT, INT, INT, INT\n",
    "    OUTPUT: FLOAT\n",
    "    Calculate and return an estimated probability that SiteA performs better\n",
    "    (has a higher click-through rate) than SiteB.\n",
    "    '''\n",
    "    num_samples = 10000\n",
    "    A_samples = beta_dist(clicks_A, views_A - clicks_A, num_samples)\n",
    "    B_samples = beta_dist(clicks_B, views_B - clicks_B, num_samples)\n",
    "    return np.mean(A_samples > B_samples)"
   ]
  },
  {
   "cell_type": "code",
   "execution_count": null,
   "metadata": {
    "collapsed": true
   },
   "outputs": [],
   "source": []
  }
 ],
 "metadata": {
  "kernelspec": {
   "display_name": "Python 2",
   "language": "python",
   "name": "python2"
  },
  "language_info": {
   "codemirror_mode": {
    "name": "ipython",
    "version": 2
   },
   "file_extension": ".py",
   "mimetype": "text/x-python",
   "name": "python",
   "nbconvert_exporter": "python",
   "pygments_lexer": "ipython2",
   "version": "2.7.10"
  }
 },
 "nbformat": 4,
 "nbformat_minor": 0
}
